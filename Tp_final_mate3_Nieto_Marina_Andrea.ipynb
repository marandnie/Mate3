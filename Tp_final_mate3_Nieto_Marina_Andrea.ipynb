{
  "nbformat": 4,
  "nbformat_minor": 0,
  "metadata": {
    "colab": {
      "name": "Tp-final-mate3_Nieto-Marina-Andrea.ipynb",
      "provenance": [],
      "collapsed_sections": [],
      "mount_file_id": "1mtHZA_fjXGCOvFssN_9zX1RJStxXEFOf",
      "authorship_tag": "ABX9TyP6fQ3URMuvaUKuwb0stize",
      "include_colab_link": true
    },
    "kernelspec": {
      "name": "python3",
      "display_name": "Python 3"
    },
    "language_info": {
      "name": "python"
    }
  },
  "cells": [
    {
      "cell_type": "markdown",
      "metadata": {
        "id": "view-in-github",
        "colab_type": "text"
      },
      "source": [
        "<a href=\"https://colab.research.google.com/github/marandnie/Mate3/blob/main/Tp_final_mate3_Nieto_Marina_Andrea.ipynb\" target=\"_parent\"><img src=\"https://colab.research.google.com/assets/colab-badge.svg\" alt=\"Open In Colab\"/></a>"
      ]
    },
    {
      "cell_type": "markdown",
      "metadata": {
        "id": "Lutmd0hTZgeg"
      },
      "source": [
        "#TP Final\n",
        "###Materia: Matemática 3\n",
        "###Estudiante: Nieto, Marina Andrea\n",
        "En este trabajo práctico, vamos a analizar la duración de los viajes del sistema de bicicletas público \"Ecobici\" realizados en el año 2019. Los datos corresponden a 1(un) viaje realizado, con una estación de origen de dónde se retira la bicicleta y una estación de destino dónde se entrega la bicicleta al finalizar. Está diferenciado por género de usuario y contiene también información sobre la duración del viaje y la fecha y hora de origen. Teniendo en cuenta estas dos últimas variables, de descartó la columna de fecha y hora de destino por ser redundante.\n",
        "\n",
        "El dataset contenía más datos en un principio. Se realizó un recorte en la cantidad de columnas tomadas en consideración.\n",
        "A su vez, se realizó el analisis solamente sobre la estación Nro 175, ex Esmeralda y Corrientes (que resultó ser la más numerosa en viajes).\n",
        "\n",
        "Consideraciones: El género (genero_usuario), la estación de origen(id_estacion_origen), la estación de destino(id_estacion_destino) y la fecha y hora de origen(fecha_origen_recorrido) fueron consideradas las variables independientes. La duración del recorrido(duracion_recorrido) fue considerada la variable dependiente.\n",
        "\n",
        "Con la hora de origen, se creo una nueva columna llamada franja horaria. Se agruparon como: Mañana, tarde, noche y madrugada.\n",
        "\n",
        "Se realizó una regresión lineal múltiple sobre los datos.\n",
        "\n",
        "Debido a que todas las variables independientes son categóricas, no se pudo realizar un scatter plot en el analisis de los datos sobre la regresión.\n",
        "\n",
        "Cómo hipótesis podemos plantear que los viajes realizados a la tarde van a tener una mayor duración en promedio, debido a que si se retira la bicicleta en ese horario, se tratará de un viaje más ocioso.\n"
      ]
    },
    {
      "cell_type": "code",
      "metadata": {
        "id": "HvYaHUbc0oUa"
      },
      "source": [
        "import pandas as pd\n",
        "import numpy as np\n",
        "import re\n",
        "import matplotlib.pyplot as plt\n",
        "from sklearn import metrics\n",
        "from sklearn.compose import make_column_transformer\n",
        "from sklearn.impute import SimpleImputer\n",
        "from sklearn.linear_model import LinearRegression\n",
        "from sklearn.model_selection import train_test_split\n",
        "from sklearn.preprocessing import LabelEncoder, OneHotEncoder\n",
        "%matplotlib inline"
      ],
      "execution_count": null,
      "outputs": []
    },
    {
      "cell_type": "code",
      "metadata": {
        "colab": {
          "base_uri": "https://localhost:8080/"
        },
        "id": "M7s4V1KPkUPH",
        "outputId": "1c021d68-ed40-46ea-aafa-d3617ce1e175"
      },
      "source": [
        "cols = [\n",
        "    \"genero_usuario\",\n",
        "    \"id_estacion_origen\",\n",
        "    \"id_estacion_destino\",\n",
        "    \"fecha_origen_recorrido\",\n",
        "    \"duracion_recorrido\"\n",
        "]\n",
        "\n",
        "dataset = pd.read_csv(\"/content/drive/MyDrive/UNSAM/TPI/Mate 3/tp_final.csv\", usecols=cols)\n",
        "# solo viajes que partan desde la estación de Av Corrientes y Esmeralda (nro 175) \n",
        "dataset = dataset.dropna(subset=[col for col in cols if col != \"genero_usuario\"])\n",
        "\n",
        "# pasamos a int por si hay discrepancias en el tipo de la columna\n",
        "dataset[\"id_estacion_destino\"] = dataset[\"id_estacion_destino\"].astype(int) \n",
        "dataset[\"id_estacion_origen\"] = dataset[\"id_estacion_origen\"].astype(int) \n",
        "dataset = dataset[dataset.id_estacion_origen == 175]\n",
        "\n",
        "# pasar a \"NO INFORMADO\" los not a numbers de genero \n",
        "dataset.loc[dataset[\"genero_usuario\"].isna(), \"genero_usuario\"] = 'NO INFORMADO'\n",
        "# dropear las filas con huecos en las demás variables (categóricas más delicadas de rellenar)\n",
        "# no hace falta el imputer (no sirve llenar con \"modas\" las estaciones o duraciones)\n",
        "\n",
        "dataset.shape"
      ],
      "execution_count": null,
      "outputs": [
        {
          "output_type": "stream",
          "name": "stderr",
          "text": [
            "/usr/local/lib/python3.7/dist-packages/IPython/core/interactiveshell.py:2718: DtypeWarning: Columns (1,3) have mixed types.Specify dtype option on import or set low_memory=False.\n",
            "  interactivity=interactivity, compiler=compiler, result=result)\n",
            "/usr/local/lib/python3.7/dist-packages/ipykernel_launcher.py:14: SettingWithCopyWarning: \n",
            "A value is trying to be set on a copy of a slice from a DataFrame.\n",
            "Try using .loc[row_indexer,col_indexer] = value instead\n",
            "\n",
            "See the caveats in the documentation: https://pandas.pydata.org/pandas-docs/stable/user_guide/indexing.html#returning-a-view-versus-a-copy\n",
            "  \n",
            "/usr/local/lib/python3.7/dist-packages/pandas/core/indexing.py:1763: SettingWithCopyWarning: \n",
            "A value is trying to be set on a copy of a slice from a DataFrame.\n",
            "Try using .loc[row_indexer,col_indexer] = value instead\n",
            "\n",
            "See the caveats in the documentation: https://pandas.pydata.org/pandas-docs/stable/user_guide/indexing.html#returning-a-view-versus-a-copy\n",
            "  isetter(loc, value)\n"
          ]
        },
        {
          "output_type": "execute_result",
          "data": {
            "text/plain": [
              "(77136, 5)"
            ]
          },
          "metadata": {},
          "execution_count": 673
        }
      ]
    },
    {
      "cell_type": "code",
      "metadata": {
        "colab": {
          "base_uri": "https://localhost:8080/",
          "height": 175
        },
        "id": "QF80iXVdl8uc",
        "outputId": "5579a28c-ae18-4a3e-e821-8203c1ee0533"
      },
      "source": [
        "# para que tome las ids como categoricas\n",
        "dataset.astype({\"id_estacion_destino\": \"category\", \"id_estacion_origen\": \"category\"}).describe(include=\"all\")"
      ],
      "execution_count": null,
      "outputs": [
        {
          "output_type": "execute_result",
          "data": {
            "text/html": [
              "<div>\n",
              "<style scoped>\n",
              "    .dataframe tbody tr th:only-of-type {\n",
              "        vertical-align: middle;\n",
              "    }\n",
              "\n",
              "    .dataframe tbody tr th {\n",
              "        vertical-align: top;\n",
              "    }\n",
              "\n",
              "    .dataframe thead th {\n",
              "        text-align: right;\n",
              "    }\n",
              "</style>\n",
              "<table border=\"1\" class=\"dataframe\">\n",
              "  <thead>\n",
              "    <tr style=\"text-align: right;\">\n",
              "      <th></th>\n",
              "      <th>genero_usuario</th>\n",
              "      <th>fecha_origen_recorrido</th>\n",
              "      <th>id_estacion_origen</th>\n",
              "      <th>duracion_recorrido</th>\n",
              "      <th>id_estacion_destino</th>\n",
              "    </tr>\n",
              "  </thead>\n",
              "  <tbody>\n",
              "    <tr>\n",
              "      <th>count</th>\n",
              "      <td>77136</td>\n",
              "      <td>77136</td>\n",
              "      <td>77136</td>\n",
              "      <td>77136</td>\n",
              "      <td>77136</td>\n",
              "    </tr>\n",
              "    <tr>\n",
              "      <th>unique</th>\n",
              "      <td>3</td>\n",
              "      <td>69435</td>\n",
              "      <td>1</td>\n",
              "      <td>7311</td>\n",
              "      <td>395</td>\n",
              "    </tr>\n",
              "    <tr>\n",
              "      <th>top</th>\n",
              "      <td>NO INFORMADO</td>\n",
              "      <td>2019-11-28 18:33:00</td>\n",
              "      <td>175</td>\n",
              "      <td>0 days 00:00:02.000000000</td>\n",
              "      <td>175</td>\n",
              "    </tr>\n",
              "    <tr>\n",
              "      <th>freq</th>\n",
              "      <td>76369</td>\n",
              "      <td>10</td>\n",
              "      <td>77136</td>\n",
              "      <td>394</td>\n",
              "      <td>4363</td>\n",
              "    </tr>\n",
              "  </tbody>\n",
              "</table>\n",
              "</div>"
            ],
            "text/plain": [
              "       genero_usuario  ... id_estacion_destino\n",
              "count           77136  ...               77136\n",
              "unique              3  ...                 395\n",
              "top      NO INFORMADO  ...                 175\n",
              "freq            76369  ...                4363\n",
              "\n",
              "[4 rows x 5 columns]"
            ]
          },
          "metadata": {},
          "execution_count": 674
        }
      ]
    },
    {
      "cell_type": "code",
      "metadata": {
        "colab": {
          "base_uri": "https://localhost:8080/",
          "height": 424
        },
        "id": "ArfqSwHUl3hw",
        "outputId": "ec1bab04-dae3-4976-ab2e-459fe3665c24"
      },
      "source": [
        "dataset"
      ],
      "execution_count": null,
      "outputs": [
        {
          "output_type": "execute_result",
          "data": {
            "text/html": [
              "<div>\n",
              "<style scoped>\n",
              "    .dataframe tbody tr th:only-of-type {\n",
              "        vertical-align: middle;\n",
              "    }\n",
              "\n",
              "    .dataframe tbody tr th {\n",
              "        vertical-align: top;\n",
              "    }\n",
              "\n",
              "    .dataframe thead th {\n",
              "        text-align: right;\n",
              "    }\n",
              "</style>\n",
              "<table border=\"1\" class=\"dataframe\">\n",
              "  <thead>\n",
              "    <tr style=\"text-align: right;\">\n",
              "      <th></th>\n",
              "      <th>genero_usuario</th>\n",
              "      <th>fecha_origen_recorrido</th>\n",
              "      <th>id_estacion_origen</th>\n",
              "      <th>duracion_recorrido</th>\n",
              "      <th>id_estacion_destino</th>\n",
              "    </tr>\n",
              "  </thead>\n",
              "  <tbody>\n",
              "    <tr>\n",
              "      <th>567</th>\n",
              "      <td>F</td>\n",
              "      <td>2019-01-01 19:06:39</td>\n",
              "      <td>175</td>\n",
              "      <td>0 days 00:12:48.000000000</td>\n",
              "      <td>93</td>\n",
              "    </tr>\n",
              "    <tr>\n",
              "      <th>935</th>\n",
              "      <td>M</td>\n",
              "      <td>2019-01-02 02:53:17</td>\n",
              "      <td>175</td>\n",
              "      <td>0 days 00:10:58.000000000</td>\n",
              "      <td>95</td>\n",
              "    </tr>\n",
              "    <tr>\n",
              "      <th>1381</th>\n",
              "      <td>M</td>\n",
              "      <td>2019-01-02 08:57:45</td>\n",
              "      <td>175</td>\n",
              "      <td>0 days 00:02:24.000000000</td>\n",
              "      <td>23</td>\n",
              "    </tr>\n",
              "    <tr>\n",
              "      <th>1965</th>\n",
              "      <td>M</td>\n",
              "      <td>2019-01-02 12:47:22</td>\n",
              "      <td>175</td>\n",
              "      <td>0 days 00:08:40.000000000</td>\n",
              "      <td>39</td>\n",
              "    </tr>\n",
              "    <tr>\n",
              "      <th>2900</th>\n",
              "      <td>M</td>\n",
              "      <td>2019-01-02 18:50:17</td>\n",
              "      <td>175</td>\n",
              "      <td>0 days 00:06:18.000000000</td>\n",
              "      <td>191</td>\n",
              "    </tr>\n",
              "    <tr>\n",
              "      <th>...</th>\n",
              "      <td>...</td>\n",
              "      <td>...</td>\n",
              "      <td>...</td>\n",
              "      <td>...</td>\n",
              "      <td>...</td>\n",
              "    </tr>\n",
              "    <tr>\n",
              "      <th>6363833</th>\n",
              "      <td>NO INFORMADO</td>\n",
              "      <td>2019-11-14 17:45:00</td>\n",
              "      <td>175</td>\n",
              "      <td>0 days 00:34:23.000000000</td>\n",
              "      <td>283</td>\n",
              "    </tr>\n",
              "    <tr>\n",
              "      <th>6363834</th>\n",
              "      <td>NO INFORMADO</td>\n",
              "      <td>2019-11-19 17:38:00</td>\n",
              "      <td>175</td>\n",
              "      <td>0 days 00:29:44.000000000</td>\n",
              "      <td>283</td>\n",
              "    </tr>\n",
              "    <tr>\n",
              "      <th>6363835</th>\n",
              "      <td>NO INFORMADO</td>\n",
              "      <td>2019-11-20 18:54:00</td>\n",
              "      <td>175</td>\n",
              "      <td>0 days 00:31:56.000000000</td>\n",
              "      <td>283</td>\n",
              "    </tr>\n",
              "    <tr>\n",
              "      <th>6363836</th>\n",
              "      <td>NO INFORMADO</td>\n",
              "      <td>2019-11-27 19:00:00</td>\n",
              "      <td>175</td>\n",
              "      <td>0 days 00:32:37.000000000</td>\n",
              "      <td>283</td>\n",
              "    </tr>\n",
              "    <tr>\n",
              "      <th>6363837</th>\n",
              "      <td>NO INFORMADO</td>\n",
              "      <td>2019-12-31 22:49:00</td>\n",
              "      <td>175</td>\n",
              "      <td>1 days 14:39:43.000000000</td>\n",
              "      <td>283</td>\n",
              "    </tr>\n",
              "  </tbody>\n",
              "</table>\n",
              "<p>77136 rows × 5 columns</p>\n",
              "</div>"
            ],
            "text/plain": [
              "        genero_usuario  ... id_estacion_destino\n",
              "567                  F  ...                  93\n",
              "935                  M  ...                  95\n",
              "1381                 M  ...                  23\n",
              "1965                 M  ...                  39\n",
              "2900                 M  ...                 191\n",
              "...                ...  ...                 ...\n",
              "6363833   NO INFORMADO  ...                 283\n",
              "6363834   NO INFORMADO  ...                 283\n",
              "6363835   NO INFORMADO  ...                 283\n",
              "6363836   NO INFORMADO  ...                 283\n",
              "6363837   NO INFORMADO  ...                 283\n",
              "\n",
              "[77136 rows x 5 columns]"
            ]
          },
          "metadata": {},
          "execution_count": 675
        }
      ]
    },
    {
      "cell_type": "code",
      "metadata": {
        "colab": {
          "base_uri": "https://localhost:8080/",
          "height": 424
        },
        "id": "QoghiKEsfih4",
        "outputId": "09b3120f-1b43-4d39-daf4-1f049cc6f47d"
      },
      "source": [
        "def minutos_de_tiempo(row):\n",
        "  s = re.split(\"\\s|:\", row)  \n",
        "  return int(s[2])*60 + int(s[3])\n",
        "\n",
        "dataset[\"duracion_minutos\"] = dataset.duracion_recorrido.apply(minutos_de_tiempo)\n",
        "dataset"
      ],
      "execution_count": null,
      "outputs": [
        {
          "output_type": "execute_result",
          "data": {
            "text/html": [
              "<div>\n",
              "<style scoped>\n",
              "    .dataframe tbody tr th:only-of-type {\n",
              "        vertical-align: middle;\n",
              "    }\n",
              "\n",
              "    .dataframe tbody tr th {\n",
              "        vertical-align: top;\n",
              "    }\n",
              "\n",
              "    .dataframe thead th {\n",
              "        text-align: right;\n",
              "    }\n",
              "</style>\n",
              "<table border=\"1\" class=\"dataframe\">\n",
              "  <thead>\n",
              "    <tr style=\"text-align: right;\">\n",
              "      <th></th>\n",
              "      <th>genero_usuario</th>\n",
              "      <th>fecha_origen_recorrido</th>\n",
              "      <th>id_estacion_origen</th>\n",
              "      <th>duracion_recorrido</th>\n",
              "      <th>id_estacion_destino</th>\n",
              "      <th>duracion_minutos</th>\n",
              "    </tr>\n",
              "  </thead>\n",
              "  <tbody>\n",
              "    <tr>\n",
              "      <th>567</th>\n",
              "      <td>F</td>\n",
              "      <td>2019-01-01 19:06:39</td>\n",
              "      <td>175</td>\n",
              "      <td>0 days 00:12:48.000000000</td>\n",
              "      <td>93</td>\n",
              "      <td>12</td>\n",
              "    </tr>\n",
              "    <tr>\n",
              "      <th>935</th>\n",
              "      <td>M</td>\n",
              "      <td>2019-01-02 02:53:17</td>\n",
              "      <td>175</td>\n",
              "      <td>0 days 00:10:58.000000000</td>\n",
              "      <td>95</td>\n",
              "      <td>10</td>\n",
              "    </tr>\n",
              "    <tr>\n",
              "      <th>1381</th>\n",
              "      <td>M</td>\n",
              "      <td>2019-01-02 08:57:45</td>\n",
              "      <td>175</td>\n",
              "      <td>0 days 00:02:24.000000000</td>\n",
              "      <td>23</td>\n",
              "      <td>2</td>\n",
              "    </tr>\n",
              "    <tr>\n",
              "      <th>1965</th>\n",
              "      <td>M</td>\n",
              "      <td>2019-01-02 12:47:22</td>\n",
              "      <td>175</td>\n",
              "      <td>0 days 00:08:40.000000000</td>\n",
              "      <td>39</td>\n",
              "      <td>8</td>\n",
              "    </tr>\n",
              "    <tr>\n",
              "      <th>2900</th>\n",
              "      <td>M</td>\n",
              "      <td>2019-01-02 18:50:17</td>\n",
              "      <td>175</td>\n",
              "      <td>0 days 00:06:18.000000000</td>\n",
              "      <td>191</td>\n",
              "      <td>6</td>\n",
              "    </tr>\n",
              "    <tr>\n",
              "      <th>...</th>\n",
              "      <td>...</td>\n",
              "      <td>...</td>\n",
              "      <td>...</td>\n",
              "      <td>...</td>\n",
              "      <td>...</td>\n",
              "      <td>...</td>\n",
              "    </tr>\n",
              "    <tr>\n",
              "      <th>6363833</th>\n",
              "      <td>NO INFORMADO</td>\n",
              "      <td>2019-11-14 17:45:00</td>\n",
              "      <td>175</td>\n",
              "      <td>0 days 00:34:23.000000000</td>\n",
              "      <td>283</td>\n",
              "      <td>34</td>\n",
              "    </tr>\n",
              "    <tr>\n",
              "      <th>6363834</th>\n",
              "      <td>NO INFORMADO</td>\n",
              "      <td>2019-11-19 17:38:00</td>\n",
              "      <td>175</td>\n",
              "      <td>0 days 00:29:44.000000000</td>\n",
              "      <td>283</td>\n",
              "      <td>29</td>\n",
              "    </tr>\n",
              "    <tr>\n",
              "      <th>6363835</th>\n",
              "      <td>NO INFORMADO</td>\n",
              "      <td>2019-11-20 18:54:00</td>\n",
              "      <td>175</td>\n",
              "      <td>0 days 00:31:56.000000000</td>\n",
              "      <td>283</td>\n",
              "      <td>31</td>\n",
              "    </tr>\n",
              "    <tr>\n",
              "      <th>6363836</th>\n",
              "      <td>NO INFORMADO</td>\n",
              "      <td>2019-11-27 19:00:00</td>\n",
              "      <td>175</td>\n",
              "      <td>0 days 00:32:37.000000000</td>\n",
              "      <td>283</td>\n",
              "      <td>32</td>\n",
              "    </tr>\n",
              "    <tr>\n",
              "      <th>6363837</th>\n",
              "      <td>NO INFORMADO</td>\n",
              "      <td>2019-12-31 22:49:00</td>\n",
              "      <td>175</td>\n",
              "      <td>1 days 14:39:43.000000000</td>\n",
              "      <td>283</td>\n",
              "      <td>879</td>\n",
              "    </tr>\n",
              "  </tbody>\n",
              "</table>\n",
              "<p>77136 rows × 6 columns</p>\n",
              "</div>"
            ],
            "text/plain": [
              "        genero_usuario  ... duracion_minutos\n",
              "567                  F  ...               12\n",
              "935                  M  ...               10\n",
              "1381                 M  ...                2\n",
              "1965                 M  ...                8\n",
              "2900                 M  ...                6\n",
              "...                ...  ...              ...\n",
              "6363833   NO INFORMADO  ...               34\n",
              "6363834   NO INFORMADO  ...               29\n",
              "6363835   NO INFORMADO  ...               31\n",
              "6363836   NO INFORMADO  ...               32\n",
              "6363837   NO INFORMADO  ...              879\n",
              "\n",
              "[77136 rows x 6 columns]"
            ]
          },
          "metadata": {},
          "execution_count": 677
        }
      ]
    },
    {
      "cell_type": "code",
      "metadata": {
        "colab": {
          "base_uri": "https://localhost:8080/"
        },
        "id": "V-LPNzgKmlDU",
        "outputId": "e9974c37-1fd8-4399-8e41-6d6d84e28dea"
      },
      "source": [
        "dataset.duracion_minutos.describe()"
      ],
      "execution_count": null,
      "outputs": [
        {
          "output_type": "execute_result",
          "data": {
            "text/plain": [
              "count    77136.000000\n",
              "mean        30.253643\n",
              "std         60.055782\n",
              "min          0.000000\n",
              "25%         11.000000\n",
              "50%         18.000000\n",
              "75%         31.000000\n",
              "max       1422.000000\n",
              "Name: duracion_minutos, dtype: float64"
            ]
          },
          "metadata": {},
          "execution_count": 678
        }
      ]
    },
    {
      "cell_type": "code",
      "metadata": {
        "colab": {
          "base_uri": "https://localhost:8080/",
          "height": 617
        },
        "id": "WxfRlWhLioxW",
        "outputId": "7ba0cfdd-5db1-4ecd-cae2-16b86739fc87"
      },
      "source": [
        "def franja_horaria(row):\n",
        "  s = re.split(\"\\s|:\", row)\n",
        "  hora_recorrido = int(s[1])\n",
        "  if 6 <= hora_recorrido <= 12:\n",
        "    return \"mañana\"\n",
        "  elif 12 < hora_recorrido <= 18:\n",
        "    return \"tarde\"\n",
        "  elif 18 < hora_recorrido <= 23:\n",
        "    return \"noche\"\n",
        "  else:\n",
        "    return \"madrugada\"\n",
        "\n",
        "dataset[\"franja_horaria_recorrido\"] = dataset.fecha_origen_recorrido.apply(franja_horaria)\n",
        "dataset"
      ],
      "execution_count": null,
      "outputs": [
        {
          "output_type": "execute_result",
          "data": {
            "text/html": [
              "<div>\n",
              "<style scoped>\n",
              "    .dataframe tbody tr th:only-of-type {\n",
              "        vertical-align: middle;\n",
              "    }\n",
              "\n",
              "    .dataframe tbody tr th {\n",
              "        vertical-align: top;\n",
              "    }\n",
              "\n",
              "    .dataframe thead th {\n",
              "        text-align: right;\n",
              "    }\n",
              "</style>\n",
              "<table border=\"1\" class=\"dataframe\">\n",
              "  <thead>\n",
              "    <tr style=\"text-align: right;\">\n",
              "      <th></th>\n",
              "      <th>genero_usuario</th>\n",
              "      <th>fecha_origen_recorrido</th>\n",
              "      <th>id_estacion_origen</th>\n",
              "      <th>duracion_recorrido</th>\n",
              "      <th>id_estacion_destino</th>\n",
              "      <th>duracion_minutos</th>\n",
              "      <th>franja_horaria_recorrido</th>\n",
              "    </tr>\n",
              "  </thead>\n",
              "  <tbody>\n",
              "    <tr>\n",
              "      <th>567</th>\n",
              "      <td>F</td>\n",
              "      <td>2019-01-01 19:06:39</td>\n",
              "      <td>175</td>\n",
              "      <td>0 days 00:12:48.000000000</td>\n",
              "      <td>93</td>\n",
              "      <td>12</td>\n",
              "      <td>noche</td>\n",
              "    </tr>\n",
              "    <tr>\n",
              "      <th>935</th>\n",
              "      <td>M</td>\n",
              "      <td>2019-01-02 02:53:17</td>\n",
              "      <td>175</td>\n",
              "      <td>0 days 00:10:58.000000000</td>\n",
              "      <td>95</td>\n",
              "      <td>10</td>\n",
              "      <td>madrugada</td>\n",
              "    </tr>\n",
              "    <tr>\n",
              "      <th>1381</th>\n",
              "      <td>M</td>\n",
              "      <td>2019-01-02 08:57:45</td>\n",
              "      <td>175</td>\n",
              "      <td>0 days 00:02:24.000000000</td>\n",
              "      <td>23</td>\n",
              "      <td>2</td>\n",
              "      <td>mañana</td>\n",
              "    </tr>\n",
              "    <tr>\n",
              "      <th>1965</th>\n",
              "      <td>M</td>\n",
              "      <td>2019-01-02 12:47:22</td>\n",
              "      <td>175</td>\n",
              "      <td>0 days 00:08:40.000000000</td>\n",
              "      <td>39</td>\n",
              "      <td>8</td>\n",
              "      <td>mañana</td>\n",
              "    </tr>\n",
              "    <tr>\n",
              "      <th>2900</th>\n",
              "      <td>M</td>\n",
              "      <td>2019-01-02 18:50:17</td>\n",
              "      <td>175</td>\n",
              "      <td>0 days 00:06:18.000000000</td>\n",
              "      <td>191</td>\n",
              "      <td>6</td>\n",
              "      <td>tarde</td>\n",
              "    </tr>\n",
              "    <tr>\n",
              "      <th>...</th>\n",
              "      <td>...</td>\n",
              "      <td>...</td>\n",
              "      <td>...</td>\n",
              "      <td>...</td>\n",
              "      <td>...</td>\n",
              "      <td>...</td>\n",
              "      <td>...</td>\n",
              "    </tr>\n",
              "    <tr>\n",
              "      <th>6363833</th>\n",
              "      <td>NO INFORMADO</td>\n",
              "      <td>2019-11-14 17:45:00</td>\n",
              "      <td>175</td>\n",
              "      <td>0 days 00:34:23.000000000</td>\n",
              "      <td>283</td>\n",
              "      <td>34</td>\n",
              "      <td>tarde</td>\n",
              "    </tr>\n",
              "    <tr>\n",
              "      <th>6363834</th>\n",
              "      <td>NO INFORMADO</td>\n",
              "      <td>2019-11-19 17:38:00</td>\n",
              "      <td>175</td>\n",
              "      <td>0 days 00:29:44.000000000</td>\n",
              "      <td>283</td>\n",
              "      <td>29</td>\n",
              "      <td>tarde</td>\n",
              "    </tr>\n",
              "    <tr>\n",
              "      <th>6363835</th>\n",
              "      <td>NO INFORMADO</td>\n",
              "      <td>2019-11-20 18:54:00</td>\n",
              "      <td>175</td>\n",
              "      <td>0 days 00:31:56.000000000</td>\n",
              "      <td>283</td>\n",
              "      <td>31</td>\n",
              "      <td>tarde</td>\n",
              "    </tr>\n",
              "    <tr>\n",
              "      <th>6363836</th>\n",
              "      <td>NO INFORMADO</td>\n",
              "      <td>2019-11-27 19:00:00</td>\n",
              "      <td>175</td>\n",
              "      <td>0 days 00:32:37.000000000</td>\n",
              "      <td>283</td>\n",
              "      <td>32</td>\n",
              "      <td>noche</td>\n",
              "    </tr>\n",
              "    <tr>\n",
              "      <th>6363837</th>\n",
              "      <td>NO INFORMADO</td>\n",
              "      <td>2019-12-31 22:49:00</td>\n",
              "      <td>175</td>\n",
              "      <td>1 days 14:39:43.000000000</td>\n",
              "      <td>283</td>\n",
              "      <td>879</td>\n",
              "      <td>noche</td>\n",
              "    </tr>\n",
              "  </tbody>\n",
              "</table>\n",
              "<p>77136 rows × 7 columns</p>\n",
              "</div>"
            ],
            "text/plain": [
              "        genero_usuario  ... franja_horaria_recorrido\n",
              "567                  F  ...                    noche\n",
              "935                  M  ...                madrugada\n",
              "1381                 M  ...                   mañana\n",
              "1965                 M  ...                   mañana\n",
              "2900                 M  ...                    tarde\n",
              "...                ...  ...                      ...\n",
              "6363833   NO INFORMADO  ...                    tarde\n",
              "6363834   NO INFORMADO  ...                    tarde\n",
              "6363835   NO INFORMADO  ...                    tarde\n",
              "6363836   NO INFORMADO  ...                    noche\n",
              "6363837   NO INFORMADO  ...                    noche\n",
              "\n",
              "[77136 rows x 7 columns]"
            ]
          },
          "metadata": {},
          "execution_count": 679
        }
      ]
    },
    {
      "cell_type": "code",
      "metadata": {
        "id": "9NaOqs6yT_Ln"
      },
      "source": [
        "\n",
        "def es_finde(row):\n",
        "  s = re.split(\"\\s|:\", row)\n",
        "  dia_semana = int(s[0])\n",
        "  if dia_semana <= hora_recorrido <= 12:\n",
        "    return dia_semana sabado o domingo\n",
        "\n",
        "dataset[\"franja_horaria_recorrido\"] = dataset.fecha_origen_recorrido.apply(franja_horaria)\n",
        "dataset"
      ],
      "execution_count": null,
      "outputs": []
    },
    {
      "cell_type": "code",
      "metadata": {
        "colab": {
          "base_uri": "https://localhost:8080/",
          "height": 617
        },
        "id": "7o2Ib2bf0f5w",
        "outputId": "e333a55d-227d-4e65-d743-e3c1e104f0fc"
      },
      "source": [
        "dataset[\"misma_estacion\"] = dataset[\"id_estacion_origen\"] == dataset[\"id_estacion_destino\"]\n",
        "dataset"
      ],
      "execution_count": null,
      "outputs": [
        {
          "output_type": "execute_result",
          "data": {
            "text/html": [
              "<div>\n",
              "<style scoped>\n",
              "    .dataframe tbody tr th:only-of-type {\n",
              "        vertical-align: middle;\n",
              "    }\n",
              "\n",
              "    .dataframe tbody tr th {\n",
              "        vertical-align: top;\n",
              "    }\n",
              "\n",
              "    .dataframe thead th {\n",
              "        text-align: right;\n",
              "    }\n",
              "</style>\n",
              "<table border=\"1\" class=\"dataframe\">\n",
              "  <thead>\n",
              "    <tr style=\"text-align: right;\">\n",
              "      <th></th>\n",
              "      <th>genero_usuario</th>\n",
              "      <th>fecha_origen_recorrido</th>\n",
              "      <th>id_estacion_origen</th>\n",
              "      <th>duracion_recorrido</th>\n",
              "      <th>id_estacion_destino</th>\n",
              "      <th>duracion_minutos</th>\n",
              "      <th>franja_horaria_recorrido</th>\n",
              "      <th>misma_estacion</th>\n",
              "    </tr>\n",
              "  </thead>\n",
              "  <tbody>\n",
              "    <tr>\n",
              "      <th>567</th>\n",
              "      <td>F</td>\n",
              "      <td>2019-01-01 19:06:39</td>\n",
              "      <td>175</td>\n",
              "      <td>0 days 00:12:48.000000000</td>\n",
              "      <td>93</td>\n",
              "      <td>12</td>\n",
              "      <td>noche</td>\n",
              "      <td>False</td>\n",
              "    </tr>\n",
              "    <tr>\n",
              "      <th>935</th>\n",
              "      <td>M</td>\n",
              "      <td>2019-01-02 02:53:17</td>\n",
              "      <td>175</td>\n",
              "      <td>0 days 00:10:58.000000000</td>\n",
              "      <td>95</td>\n",
              "      <td>10</td>\n",
              "      <td>madrugada</td>\n",
              "      <td>False</td>\n",
              "    </tr>\n",
              "    <tr>\n",
              "      <th>1381</th>\n",
              "      <td>M</td>\n",
              "      <td>2019-01-02 08:57:45</td>\n",
              "      <td>175</td>\n",
              "      <td>0 days 00:02:24.000000000</td>\n",
              "      <td>23</td>\n",
              "      <td>2</td>\n",
              "      <td>mañana</td>\n",
              "      <td>False</td>\n",
              "    </tr>\n",
              "    <tr>\n",
              "      <th>1965</th>\n",
              "      <td>M</td>\n",
              "      <td>2019-01-02 12:47:22</td>\n",
              "      <td>175</td>\n",
              "      <td>0 days 00:08:40.000000000</td>\n",
              "      <td>39</td>\n",
              "      <td>8</td>\n",
              "      <td>mañana</td>\n",
              "      <td>False</td>\n",
              "    </tr>\n",
              "    <tr>\n",
              "      <th>2900</th>\n",
              "      <td>M</td>\n",
              "      <td>2019-01-02 18:50:17</td>\n",
              "      <td>175</td>\n",
              "      <td>0 days 00:06:18.000000000</td>\n",
              "      <td>191</td>\n",
              "      <td>6</td>\n",
              "      <td>tarde</td>\n",
              "      <td>False</td>\n",
              "    </tr>\n",
              "    <tr>\n",
              "      <th>...</th>\n",
              "      <td>...</td>\n",
              "      <td>...</td>\n",
              "      <td>...</td>\n",
              "      <td>...</td>\n",
              "      <td>...</td>\n",
              "      <td>...</td>\n",
              "      <td>...</td>\n",
              "      <td>...</td>\n",
              "    </tr>\n",
              "    <tr>\n",
              "      <th>6363833</th>\n",
              "      <td>NO INFORMADO</td>\n",
              "      <td>2019-11-14 17:45:00</td>\n",
              "      <td>175</td>\n",
              "      <td>0 days 00:34:23.000000000</td>\n",
              "      <td>283</td>\n",
              "      <td>34</td>\n",
              "      <td>tarde</td>\n",
              "      <td>False</td>\n",
              "    </tr>\n",
              "    <tr>\n",
              "      <th>6363834</th>\n",
              "      <td>NO INFORMADO</td>\n",
              "      <td>2019-11-19 17:38:00</td>\n",
              "      <td>175</td>\n",
              "      <td>0 days 00:29:44.000000000</td>\n",
              "      <td>283</td>\n",
              "      <td>29</td>\n",
              "      <td>tarde</td>\n",
              "      <td>False</td>\n",
              "    </tr>\n",
              "    <tr>\n",
              "      <th>6363835</th>\n",
              "      <td>NO INFORMADO</td>\n",
              "      <td>2019-11-20 18:54:00</td>\n",
              "      <td>175</td>\n",
              "      <td>0 days 00:31:56.000000000</td>\n",
              "      <td>283</td>\n",
              "      <td>31</td>\n",
              "      <td>tarde</td>\n",
              "      <td>False</td>\n",
              "    </tr>\n",
              "    <tr>\n",
              "      <th>6363836</th>\n",
              "      <td>NO INFORMADO</td>\n",
              "      <td>2019-11-27 19:00:00</td>\n",
              "      <td>175</td>\n",
              "      <td>0 days 00:32:37.000000000</td>\n",
              "      <td>283</td>\n",
              "      <td>32</td>\n",
              "      <td>noche</td>\n",
              "      <td>False</td>\n",
              "    </tr>\n",
              "    <tr>\n",
              "      <th>6363837</th>\n",
              "      <td>NO INFORMADO</td>\n",
              "      <td>2019-12-31 22:49:00</td>\n",
              "      <td>175</td>\n",
              "      <td>1 days 14:39:43.000000000</td>\n",
              "      <td>283</td>\n",
              "      <td>879</td>\n",
              "      <td>noche</td>\n",
              "      <td>False</td>\n",
              "    </tr>\n",
              "  </tbody>\n",
              "</table>\n",
              "<p>77136 rows × 8 columns</p>\n",
              "</div>"
            ],
            "text/plain": [
              "        genero_usuario  ... misma_estacion\n",
              "567                  F  ...          False\n",
              "935                  M  ...          False\n",
              "1381                 M  ...          False\n",
              "1965                 M  ...          False\n",
              "2900                 M  ...          False\n",
              "...                ...  ...            ...\n",
              "6363833   NO INFORMADO  ...          False\n",
              "6363834   NO INFORMADO  ...          False\n",
              "6363835   NO INFORMADO  ...          False\n",
              "6363836   NO INFORMADO  ...          False\n",
              "6363837   NO INFORMADO  ...          False\n",
              "\n",
              "[77136 rows x 8 columns]"
            ]
          },
          "metadata": {},
          "execution_count": 680
        }
      ]
    },
    {
      "cell_type": "code",
      "metadata": {
        "colab": {
          "base_uri": "https://localhost:8080/",
          "height": 424
        },
        "id": "PhD8JU-tzXYS",
        "outputId": "97572f91-7600-4ec5-d756-2c255c8b9eed"
      },
      "source": [
        "dataset = dataset[[\"genero_usuario\", \"id_estacion_destino\", \"franja_horaria_recorrido\", \"misma_estacion\", \"duracion_minutos\"]]\n",
        "dataset"
      ],
      "execution_count": null,
      "outputs": [
        {
          "output_type": "execute_result",
          "data": {
            "text/html": [
              "<div>\n",
              "<style scoped>\n",
              "    .dataframe tbody tr th:only-of-type {\n",
              "        vertical-align: middle;\n",
              "    }\n",
              "\n",
              "    .dataframe tbody tr th {\n",
              "        vertical-align: top;\n",
              "    }\n",
              "\n",
              "    .dataframe thead th {\n",
              "        text-align: right;\n",
              "    }\n",
              "</style>\n",
              "<table border=\"1\" class=\"dataframe\">\n",
              "  <thead>\n",
              "    <tr style=\"text-align: right;\">\n",
              "      <th></th>\n",
              "      <th>genero_usuario</th>\n",
              "      <th>id_estacion_destino</th>\n",
              "      <th>franja_horaria_recorrido</th>\n",
              "      <th>misma_estacion</th>\n",
              "      <th>duracion_minutos</th>\n",
              "    </tr>\n",
              "  </thead>\n",
              "  <tbody>\n",
              "    <tr>\n",
              "      <th>567</th>\n",
              "      <td>F</td>\n",
              "      <td>93</td>\n",
              "      <td>noche</td>\n",
              "      <td>False</td>\n",
              "      <td>12</td>\n",
              "    </tr>\n",
              "    <tr>\n",
              "      <th>935</th>\n",
              "      <td>M</td>\n",
              "      <td>95</td>\n",
              "      <td>madrugada</td>\n",
              "      <td>False</td>\n",
              "      <td>10</td>\n",
              "    </tr>\n",
              "    <tr>\n",
              "      <th>1381</th>\n",
              "      <td>M</td>\n",
              "      <td>23</td>\n",
              "      <td>mañana</td>\n",
              "      <td>False</td>\n",
              "      <td>2</td>\n",
              "    </tr>\n",
              "    <tr>\n",
              "      <th>1965</th>\n",
              "      <td>M</td>\n",
              "      <td>39</td>\n",
              "      <td>mañana</td>\n",
              "      <td>False</td>\n",
              "      <td>8</td>\n",
              "    </tr>\n",
              "    <tr>\n",
              "      <th>2900</th>\n",
              "      <td>M</td>\n",
              "      <td>191</td>\n",
              "      <td>tarde</td>\n",
              "      <td>False</td>\n",
              "      <td>6</td>\n",
              "    </tr>\n",
              "    <tr>\n",
              "      <th>...</th>\n",
              "      <td>...</td>\n",
              "      <td>...</td>\n",
              "      <td>...</td>\n",
              "      <td>...</td>\n",
              "      <td>...</td>\n",
              "    </tr>\n",
              "    <tr>\n",
              "      <th>6363833</th>\n",
              "      <td>NO INFORMADO</td>\n",
              "      <td>283</td>\n",
              "      <td>tarde</td>\n",
              "      <td>False</td>\n",
              "      <td>34</td>\n",
              "    </tr>\n",
              "    <tr>\n",
              "      <th>6363834</th>\n",
              "      <td>NO INFORMADO</td>\n",
              "      <td>283</td>\n",
              "      <td>tarde</td>\n",
              "      <td>False</td>\n",
              "      <td>29</td>\n",
              "    </tr>\n",
              "    <tr>\n",
              "      <th>6363835</th>\n",
              "      <td>NO INFORMADO</td>\n",
              "      <td>283</td>\n",
              "      <td>tarde</td>\n",
              "      <td>False</td>\n",
              "      <td>31</td>\n",
              "    </tr>\n",
              "    <tr>\n",
              "      <th>6363836</th>\n",
              "      <td>NO INFORMADO</td>\n",
              "      <td>283</td>\n",
              "      <td>noche</td>\n",
              "      <td>False</td>\n",
              "      <td>32</td>\n",
              "    </tr>\n",
              "    <tr>\n",
              "      <th>6363837</th>\n",
              "      <td>NO INFORMADO</td>\n",
              "      <td>283</td>\n",
              "      <td>noche</td>\n",
              "      <td>False</td>\n",
              "      <td>879</td>\n",
              "    </tr>\n",
              "  </tbody>\n",
              "</table>\n",
              "<p>77136 rows × 5 columns</p>\n",
              "</div>"
            ],
            "text/plain": [
              "        genero_usuario  id_estacion_destino  ... misma_estacion  duracion_minutos\n",
              "567                  F                   93  ...          False                12\n",
              "935                  M                   95  ...          False                10\n",
              "1381                 M                   23  ...          False                 2\n",
              "1965                 M                   39  ...          False                 8\n",
              "2900                 M                  191  ...          False                 6\n",
              "...                ...                  ...  ...            ...               ...\n",
              "6363833   NO INFORMADO                  283  ...          False                34\n",
              "6363834   NO INFORMADO                  283  ...          False                29\n",
              "6363835   NO INFORMADO                  283  ...          False                31\n",
              "6363836   NO INFORMADO                  283  ...          False                32\n",
              "6363837   NO INFORMADO                  283  ...          False               879\n",
              "\n",
              "[77136 rows x 5 columns]"
            ]
          },
          "metadata": {},
          "execution_count": 681
        }
      ]
    },
    {
      "cell_type": "code",
      "metadata": {
        "colab": {
          "base_uri": "https://localhost:8080/"
        },
        "id": "T0VG_FYC2X79",
        "outputId": "bbdc08fe-8591-460a-fd38-0f0efe764f8f"
      },
      "source": [
        "X = dataset.iloc[:, :-1]\n",
        "y = dataset.iloc[:, -1]\n",
        "X, y"
      ],
      "execution_count": null,
      "outputs": [
        {
          "output_type": "execute_result",
          "data": {
            "text/plain": [
              "(        genero_usuario  ...  misma_estacion\n",
              " 567                  F  ...           False\n",
              " 935                  M  ...           False\n",
              " 1381                 M  ...           False\n",
              " 1965                 M  ...           False\n",
              " 2900                 M  ...           False\n",
              " ...                ...  ...             ...\n",
              " 6363833   NO INFORMADO  ...           False\n",
              " 6363834   NO INFORMADO  ...           False\n",
              " 6363835   NO INFORMADO  ...           False\n",
              " 6363836   NO INFORMADO  ...           False\n",
              " 6363837   NO INFORMADO  ...           False\n",
              " \n",
              " [77136 rows x 4 columns], 567         12\n",
              " 935         10\n",
              " 1381         2\n",
              " 1965         8\n",
              " 2900         6\n",
              "           ... \n",
              " 6363833     34\n",
              " 6363834     29\n",
              " 6363835     31\n",
              " 6363836     32\n",
              " 6363837    879\n",
              " Name: duracion_minutos, Length: 77136, dtype: int64)"
            ]
          },
          "metadata": {},
          "execution_count": 701
        }
      ]
    },
    {
      "cell_type": "code",
      "metadata": {
        "colab": {
          "base_uri": "https://localhost:8080/"
        },
        "id": "c999fcKV28wU",
        "outputId": "b4129824-a52b-4f20-8636-249084b9eb4d"
      },
      "source": [
        "print(dataset.describe())\n",
        "print(dataset.shape)"
      ],
      "execution_count": null,
      "outputs": [
        {
          "output_type": "stream",
          "name": "stdout",
          "text": [
            "       id_estacion_destino  duracion_minutos\n",
            "count         77136.000000      77136.000000\n",
            "mean            142.404908         30.253643\n",
            "std             110.298194         60.055782\n",
            "min               1.000000          0.000000\n",
            "25%              49.000000         11.000000\n",
            "50%             126.000000         18.000000\n",
            "75%             191.000000         31.000000\n",
            "max             449.000000       1422.000000\n",
            "(77136, 5)\n"
          ]
        }
      ]
    },
    {
      "cell_type": "code",
      "metadata": {
        "colab": {
          "base_uri": "https://localhost:8080/"
        },
        "id": "I83oV8Tx8lQg",
        "outputId": "d801f4c2-7967-43e6-d557-422f4bc14642"
      },
      "source": [
        "cat_cols = [\n",
        "  'genero_usuario',\n",
        "  'id_estacion_destino',\n",
        "  'franja_horaria_recorrido',\n",
        "  'misma_estacion'\n",
        "]\n",
        "#transforma la columna en varias columnas con 1s y 0s\n",
        "onehotencoder = make_column_transformer((OneHotEncoder(), cat_cols), remainder = \"passthrough\")\n",
        "X = onehotencoder.fit_transform(X).todense()\n",
        "X"
      ],
      "execution_count": null,
      "outputs": [
        {
          "output_type": "execute_result",
          "data": {
            "text/plain": [
              "matrix([[1., 0., 0., ..., 0., 1., 0.],\n",
              "        [0., 1., 0., ..., 0., 1., 0.],\n",
              "        [0., 1., 0., ..., 0., 1., 0.],\n",
              "        ...,\n",
              "        [0., 0., 1., ..., 1., 1., 0.],\n",
              "        [0., 0., 1., ..., 0., 1., 0.],\n",
              "        [0., 0., 1., ..., 0., 1., 0.]])"
            ]
          },
          "metadata": {},
          "execution_count": 703
        }
      ]
    },
    {
      "cell_type": "code",
      "metadata": {
        "colab": {
          "base_uri": "https://localhost:8080/"
        },
        "id": "r00afjP3_Yde",
        "outputId": "104b2dc2-a35c-4023-d956-ddc10805906e"
      },
      "source": [
        "X_train, X_test, y_train, y_test = train_test_split(X, y, test_size = 0.2, random_state = 0)\n",
        "print(X_train.shape)\n",
        "print(X_test.shape)\n",
        "print(y_train.shape)\n",
        "print(y_test.shape)"
      ],
      "execution_count": null,
      "outputs": [
        {
          "output_type": "stream",
          "name": "stdout",
          "text": [
            "(61708, 404)\n",
            "(15428, 404)\n",
            "(61708,)\n",
            "(15428,)\n"
          ]
        }
      ]
    },
    {
      "cell_type": "code",
      "metadata": {
        "colab": {
          "base_uri": "https://localhost:8080/",
          "height": 349
        },
        "id": "RQHlFudN_gea",
        "outputId": "9827c270-ed29-49c6-bd0a-19beb951ff77"
      },
      "source": [
        "dataset[dataset.genero_usuario != \"NO INFORMADO\"].boxplot(column=\"duracion_minutos\", by=\"genero_usuario\", showfliers=False)\n",
        "plt.title(\"Duración en minutos del viaje, por género de usuario\")\n",
        "plt.ylabel(\"duracion en minutos\")\n",
        "plt.xlabel(\"genero del usuario\")\n",
        "plt.suptitle(\"\")\n",
        "plt.show()"
      ],
      "execution_count": null,
      "outputs": [
        {
          "output_type": "stream",
          "name": "stderr",
          "text": [
            "/usr/local/lib/python3.7/dist-packages/numpy/core/_asarray.py:83: VisibleDeprecationWarning: Creating an ndarray from ragged nested sequences (which is a list-or-tuple of lists-or-tuples-or ndarrays with different lengths or shapes) is deprecated. If you meant to do this, you must specify 'dtype=object' when creating the ndarray\n",
            "  return array(a, dtype, copy=False, order=order)\n"
          ]
        },
        {
          "output_type": "display_data",
          "data": {
            "image/png": "[encoded data removed]",
            "text/plain": [
              "<Figure size 432x288 with 1 Axes>"
            ]
          },
          "metadata": {
            "needs_background": "light"
          }
        }
      ]
    },
    {
      "cell_type": "code",
      "metadata": {
        "colab": {
          "base_uri": "https://localhost:8080/",
          "height": 349
        },
        "id": "iOGF3a9g8qYy",
        "outputId": "10e4b345-a9bc-40c4-81fa-35052e51db47"
      },
      "source": [
        "dataset.boxplot(column=\"duracion_minutos\", by=\"franja_horaria_recorrido\", showfliers=False)\n",
        "plt.title(\"Duración del viaje en minutos, por franja horaria\")\n",
        "plt.ylabel(\"Duracion en minutos\")\n",
        "plt.xlabel(\"Franja horaria\")\n",
        "plt.suptitle(\"\")\n",
        "plt.show()"
      ],
      "execution_count": null,
      "outputs": [
        {
          "output_type": "stream",
          "name": "stderr",
          "text": [
            "/usr/local/lib/python3.7/dist-packages/numpy/core/_asarray.py:83: VisibleDeprecationWarning: Creating an ndarray from ragged nested sequences (which is a list-or-tuple of lists-or-tuples-or ndarrays with different lengths or shapes) is deprecated. If you meant to do this, you must specify 'dtype=object' when creating the ndarray\n",
            "  return array(a, dtype, copy=False, order=order)\n"
          ]
        },
        {
          "output_type": "display_data",
          "data": {
            "image/png": "[encoded data removed]",
            "text/plain": [
              "<Figure size 432x288 with 1 Axes>"
            ]
          },
          "metadata": {
            "needs_background": "light"
          }
        }
      ]
    },
    {
      "cell_type": "code",
      "metadata": {
        "colab": {
          "base_uri": "https://localhost:8080/",
          "height": 349
        },
        "id": "UtgMuLjOBvtS",
        "outputId": "7d5a072a-b12f-4a6c-cf99-9260d4ebd2b9"
      },
      "source": [
        "dataset.boxplot(column=\"duracion_minutos\", by=\"misma_estacion\", showfliers=False)\n",
        "plt.title(\"Duración del viaje en minutos, separado por mismo o distinto destino al origen\")\n",
        "plt.ylabel(\"Duracion en minutos\")\n",
        "plt.xlabel(\"True: mismo origen que destino\")\n",
        "plt.suptitle(\"\")\n",
        "plt.show()"
      ],
      "execution_count": null,
      "outputs": [
        {
          "output_type": "stream",
          "name": "stderr",
          "text": [
            "/usr/local/lib/python3.7/dist-packages/numpy/core/_asarray.py:83: VisibleDeprecationWarning: Creating an ndarray from ragged nested sequences (which is a list-or-tuple of lists-or-tuples-or ndarrays with different lengths or shapes) is deprecated. If you meant to do this, you must specify 'dtype=object' when creating the ndarray\n",
            "  return array(a, dtype, copy=False, order=order)\n"
          ]
        },
        {
          "output_type": "display_data",
          "data": {
            "image/png": "[encoded data removed]",
            "text/plain": [
              "<Figure size 432x288 with 1 Axes>"
            ]
          },
          "metadata": {
            "needs_background": "light"
          }
        }
      ]
    },
    {
      "cell_type": "code",
      "metadata": {
        "colab": {
          "base_uri": "https://localhost:8080/",
          "height": 766
        },
        "id": "S8EgN2wIB5QU",
        "outputId": "ebdcdb6d-4bc1-44ff-89ac-ac4c368fd4c4"
      },
      "source": [
        "regression = LinearRegression()\n",
        "regression.fit(X_train, y_train)\n",
        "y_pred = regression.predict(X_test)\n",
        "\n",
        "df = pd.DataFrame({'Actual': y_test, 'Predicción': y_pred})\n",
        "df.sample(20)"
      ],
      "execution_count": null,
      "outputs": [
        {
          "output_type": "stream",
          "name": "stderr",
          "text": [
            "/usr/local/lib/python3.7/dist-packages/sklearn/utils/validation.py:590: FutureWarning: np.matrix usage is deprecated in 1.0 and will raise a TypeError in 1.2. Please convert to a numpy array with np.asarray. For more information see: https://numpy.org/doc/stable/reference/generated/numpy.matrix.html\n",
            "  FutureWarning,\n",
            "/usr/local/lib/python3.7/dist-packages/sklearn/utils/validation.py:590: FutureWarning: np.matrix usage is deprecated in 1.0 and will raise a TypeError in 1.2. Please convert to a numpy array with np.asarray. For more information see: https://numpy.org/doc/stable/reference/generated/numpy.matrix.html\n",
            "  FutureWarning,\n"
          ]
        },
        {
          "output_type": "execute_result",
          "data": {
            "text/html": [
              "<div>\n",
              "<style scoped>\n",
              "    .dataframe tbody tr th:only-of-type {\n",
              "        vertical-align: middle;\n",
              "    }\n",
              "\n",
              "    .dataframe tbody tr th {\n",
              "        vertical-align: top;\n",
              "    }\n",
              "\n",
              "    .dataframe thead th {\n",
              "        text-align: right;\n",
              "    }\n",
              "</style>\n",
              "<table border=\"1\" class=\"dataframe\">\n",
              "  <thead>\n",
              "    <tr style=\"text-align: right;\">\n",
              "      <th></th>\n",
              "      <th>Actual</th>\n",
              "      <th>Predicción</th>\n",
              "    </tr>\n",
              "  </thead>\n",
              "  <tbody>\n",
              "    <tr>\n",
              "      <th>1846436</th>\n",
              "      <td>11</td>\n",
              "      <td>20.441406</td>\n",
              "    </tr>\n",
              "    <tr>\n",
              "      <th>3979796</th>\n",
              "      <td>17</td>\n",
              "      <td>23.468750</td>\n",
              "    </tr>\n",
              "    <tr>\n",
              "      <th>3219210</th>\n",
              "      <td>1</td>\n",
              "      <td>63.591797</td>\n",
              "    </tr>\n",
              "    <tr>\n",
              "      <th>3220743</th>\n",
              "      <td>359</td>\n",
              "      <td>65.556641</td>\n",
              "    </tr>\n",
              "    <tr>\n",
              "      <th>3175629</th>\n",
              "      <td>15</td>\n",
              "      <td>32.458984</td>\n",
              "    </tr>\n",
              "    <tr>\n",
              "      <th>3911140</th>\n",
              "      <td>7</td>\n",
              "      <td>37.677734</td>\n",
              "    </tr>\n",
              "    <tr>\n",
              "      <th>3346558</th>\n",
              "      <td>26</td>\n",
              "      <td>43.041016</td>\n",
              "    </tr>\n",
              "    <tr>\n",
              "      <th>1906895</th>\n",
              "      <td>23</td>\n",
              "      <td>33.810547</td>\n",
              "    </tr>\n",
              "    <tr>\n",
              "      <th>648703</th>\n",
              "      <td>15</td>\n",
              "      <td>23.468750</td>\n",
              "    </tr>\n",
              "    <tr>\n",
              "      <th>2277408</th>\n",
              "      <td>8</td>\n",
              "      <td>17.927734</td>\n",
              "    </tr>\n",
              "    <tr>\n",
              "      <th>3979757</th>\n",
              "      <td>10</td>\n",
              "      <td>21.503906</td>\n",
              "    </tr>\n",
              "    <tr>\n",
              "      <th>2182782</th>\n",
              "      <td>95</td>\n",
              "      <td>66.537109</td>\n",
              "    </tr>\n",
              "    <tr>\n",
              "      <th>499126</th>\n",
              "      <td>12</td>\n",
              "      <td>21.257812</td>\n",
              "    </tr>\n",
              "    <tr>\n",
              "      <th>2946458</th>\n",
              "      <td>40</td>\n",
              "      <td>43.105469</td>\n",
              "    </tr>\n",
              "    <tr>\n",
              "      <th>1018687</th>\n",
              "      <td>2</td>\n",
              "      <td>61.697266</td>\n",
              "    </tr>\n",
              "    <tr>\n",
              "      <th>1117169</th>\n",
              "      <td>142</td>\n",
              "      <td>61.697266</td>\n",
              "    </tr>\n",
              "    <tr>\n",
              "      <th>3219481</th>\n",
              "      <td>36</td>\n",
              "      <td>63.591797</td>\n",
              "    </tr>\n",
              "    <tr>\n",
              "      <th>1592374</th>\n",
              "      <td>50</td>\n",
              "      <td>46.728516</td>\n",
              "    </tr>\n",
              "    <tr>\n",
              "      <th>3284718</th>\n",
              "      <td>19</td>\n",
              "      <td>27.099609</td>\n",
              "    </tr>\n",
              "    <tr>\n",
              "      <th>3109055</th>\n",
              "      <td>6</td>\n",
              "      <td>12.787109</td>\n",
              "    </tr>\n",
              "  </tbody>\n",
              "</table>\n",
              "</div>"
            ],
            "text/plain": [
              "         Actual  Predicción\n",
              "1846436      11   20.441406\n",
              "3979796      17   23.468750\n",
              "3219210       1   63.591797\n",
              "3220743     359   65.556641\n",
              "3175629      15   32.458984\n",
              "3911140       7   37.677734\n",
              "3346558      26   43.041016\n",
              "1906895      23   33.810547\n",
              "648703       15   23.468750\n",
              "2277408       8   17.927734\n",
              "3979757      10   21.503906\n",
              "2182782      95   66.537109\n",
              "499126       12   21.257812\n",
              "2946458      40   43.105469\n",
              "1018687       2   61.697266\n",
              "1117169     142   61.697266\n",
              "3219481      36   63.591797\n",
              "1592374      50   46.728516\n",
              "3284718      19   27.099609\n",
              "3109055       6   12.787109"
            ]
          },
          "metadata": {},
          "execution_count": 689
        }
      ]
    },
    {
      "cell_type": "code",
      "metadata": {
        "id": "bJiZPx-eEDhB",
        "colab": {
          "base_uri": "https://localhost:8080/"
        },
        "outputId": "214370b2-9eca-40d9-ebd3-749e96c52e5f"
      },
      "source": [
        "print('Error Medio Absoluto (MAE):', metrics.mean_absolute_error(y_test, y_pred))  \n",
        "print('Error cuadrático medio (MSE):', metrics.mean_squared_error(y_test, y_pred, squared=True))  \n",
        "print('Error cuadrático medio de raíz (RMSE):', np.sqrt(metrics.mean_squared_error(y_test, y_pred)))"
      ],
      "execution_count": null,
      "outputs": [
        {
          "output_type": "stream",
          "name": "stdout",
          "text": [
            "Error Medio Absoluto (MAE): 8115320096.288091\n",
            "Error cuadrático medio (MSE): 6.378660810564861e+23\n",
            "Error cuadrático medio de raíz (RMSE): 798665187081.8497\n"
          ]
        }
      ]
    },
    {
      "cell_type": "code",
      "metadata": {
        "colab": {
          "base_uri": "https://localhost:8080/"
        },
        "id": "AT5CULIdf4vk",
        "outputId": "195a5def-ff92-4b65-b0e5-98c9efef318b"
      },
      "source": [
        "np.abs(df[\"Predicción\"]).sort_values(ascending=False)[:5]"
      ],
      "execution_count": null,
      "outputs": [
        {
          "output_type": "execute_result",
          "data": {
            "text/plain": [
              "92736      9.793657e+13\n",
              "6226448    9.978191e+12\n",
              "6089325    9.101197e+12\n",
              "6327674    8.187201e+12\n",
              "5191029    2.885059e+02\n",
              "Name: Predicción, dtype: float64"
            ]
          },
          "metadata": {},
          "execution_count": 691
        }
      ]
    },
    {
      "cell_type": "code",
      "metadata": {
        "colab": {
          "base_uri": "https://localhost:8080/"
        },
        "id": "p9Lk9olREFk7",
        "outputId": "69d60c59-f448-4989-d620-0b5291afd9df"
      },
      "source": [
        "# vemos qué pasa si a uno de estos casos le cambiamos la estación\n",
        "viaje_outlier = dataset.loc[92736, :].drop(labels=\"duracion_minutos\")\n",
        "viaje_outlier[\"id_estacion_destino\"] = 20\n",
        "viaje_outlier = onehotencoder.transform(pd.DataFrame(viaje_outlier).transpose())\n",
        "regression.predict(viaje_outlier)"
      ],
      "execution_count": null,
      "outputs": [
        {
          "output_type": "execute_result",
          "data": {
            "text/plain": [
              "array([27.77587891])"
            ]
          },
          "metadata": {},
          "execution_count": 692
        }
      ]
    },
    {
      "cell_type": "markdown",
      "metadata": {
        "id": "m3JHkvUIzTLA"
      },
      "source": [
        "Notar que los primeros 4 valores de predicciones más altos son exorbitantemente altos (habría que determinar qué sucedió en los datos de donde provienen las filas de estos registros, siendo problemas con los datos de la estación destino el principal sospechoso). \n",
        "\n",
        "¿Qué tan alto es el error si no los consideramos? "
      ]
    },
    {
      "cell_type": "code",
      "metadata": {
        "colab": {
          "base_uri": "https://localhost:8080/"
        },
        "id": "Zl2_aCPixMp7",
        "outputId": "70bc0704-2621-4bbf-c238-1e99a0a7c998"
      },
      "source": [
        "idx = np.abs(df[\"Predicción\"]).sort_values(ascending=False)[:4].index\n",
        "df = df[~df.index.isin(idx)]\n",
        "\n",
        "y_test = df[\"Actual\"]\n",
        "y_pred = df[\"Predicción\"]\n",
        "\n",
        "print('Error Medio Absoluto (MAE):', metrics.mean_absolute_error(y_test, y_pred))  \n",
        "print('Error cuadrático medio (MSE):', metrics.mean_squared_error(y_test, y_pred, squared=True))  \n",
        "print('Error cuadrático medio de raíz (RMSE):', np.sqrt(metrics.mean_squared_error(y_test, y_pred)))"
      ],
      "execution_count": null,
      "outputs": [
        {
          "output_type": "stream",
          "name": "stdout",
          "text": [
            "Error Medio Absoluto (MAE): 18.975940403601935\n",
            "Error cuadrático medio (MSE): 2971.6264575180826\n",
            "Error cuadrático medio de raíz (RMSE): 54.51262658795742\n"
          ]
        }
      ]
    },
    {
      "cell_type": "markdown",
      "metadata": {
        "id": "aJCfLCYVI4Pn"
      },
      "source": [
        "### Analizando los coeficientes\n",
        "Al ser multiples variables categoricas que se codificaron con el OneHotEncoder es dificil analizar el peso de los coeficientes de la regresión para extraer información ni tampoco se puede graficiar una recta de regresión lineal contra el scatter plot para comparar.\n",
        "\n",
        "Se plantea entonces analizar el cambio en las predicciones de un viaje conforme se modifican las variables. "
      ]
    },
    {
      "cell_type": "code",
      "metadata": {
        "colab": {
          "base_uri": "https://localhost:8080/"
        },
        "id": "TsMBIUtkI2VO",
        "outputId": "d123d5fe-3020-4b5d-b965-eacec2a43f52"
      },
      "source": [
        "viaje = pd.Series({\n",
        "    \"genero_usuario\": \"M\",\n",
        "    \"id_estacion_destino\": 175,\n",
        "    \"franja_horaria_recorrido\": \"tarde\",\n",
        "    \"misma_estacion\": True,\n",
        "})\n",
        "viaje = onehotencoder.transform(pd.DataFrame(viaje).transpose())\n",
        "regression.predict(viaje)"
      ],
      "execution_count": null,
      "outputs": [
        {
          "output_type": "execute_result",
          "data": {
            "text/plain": [
              "array([48.2421875])"
            ]
          },
          "metadata": {},
          "execution_count": 731
        }
      ]
    },
    {
      "cell_type": "code",
      "metadata": {
        "colab": {
          "base_uri": "https://localhost:8080/"
        },
        "id": "4GKfFWE6MbMN",
        "outputId": "2448c230-57d3-483e-82e0-d806011d3547"
      },
      "source": [
        "#Si el viaje es a otra estación cercana\n",
        "viaje = pd.Series({\n",
        "    \"genero_usuario\": \"M\",\n",
        "    \"id_estacion_destino\": 75,\n",
        "    \"franja_horaria_recorrido\": \"tarde\",\n",
        "    \"misma_estacion\": False,\n",
        "})\n",
        "viaje = onehotencoder.transform(pd.DataFrame(viaje).transpose())\n",
        "regression.predict(viaje)"
      ],
      "execution_count": null,
      "outputs": [
        {
          "output_type": "execute_result",
          "data": {
            "text/plain": [
              "array([7.41845703])"
            ]
          },
          "metadata": {},
          "execution_count": 735
        }
      ]
    },
    {
      "cell_type": "code",
      "metadata": {
        "colab": {
          "base_uri": "https://localhost:8080/"
        },
        "id": "O-F99BqjMpe0",
        "outputId": "b2c7d4aa-9420-43b0-f115-3b32ce95e555"
      },
      "source": [
        "#Si el viaje lo hace una mujer\n",
        "viaje = pd.Series({\n",
        "    \"genero_usuario\": \"F\",\n",
        "    \"id_estacion_destino\": 175,\n",
        "    \"franja_horaria_recorrido\": \"tarde\",\n",
        "    \"misma_estacion\": True,\n",
        "})\n",
        "viaje = onehotencoder.transform(pd.DataFrame(viaje).transpose())\n",
        "regression.predict(viaje)"
      ],
      "execution_count": null,
      "outputs": [
        {
          "output_type": "execute_result",
          "data": {
            "text/plain": [
              "array([50.1796875])"
            ]
          },
          "metadata": {},
          "execution_count": 744
        }
      ]
    },
    {
      "cell_type": "code",
      "metadata": {
        "colab": {
          "base_uri": "https://localhost:8080/"
        },
        "id": "jXaWMf_hMucU",
        "outputId": "2515b8fc-ae94-4d3f-cec7-46c798f8c4ab"
      },
      "source": [
        "#si lo hace a la madrugada\n",
        "viaje = pd.Series({\n",
        "    \"genero_usuario\": \"M\",\n",
        "    \"id_estacion_destino\": 175,\n",
        "    \"franja_horaria_recorrido\": \"madrugada\",\n",
        "    \"misma_estacion\": True,\n",
        "})\n",
        "viaje = onehotencoder.transform(pd.DataFrame(viaje).transpose())\n",
        "regression.predict(viaje)"
      ],
      "execution_count": null,
      "outputs": [
        {
          "output_type": "execute_result",
          "data": {
            "text/plain": [
              "array([38.8671875])"
            ]
          },
          "metadata": {},
          "execution_count": 745
        }
      ]
    },
    {
      "cell_type": "code",
      "metadata": {
        "colab": {
          "base_uri": "https://localhost:8080/"
        },
        "id": "2misc0MxMz_N",
        "outputId": "12e97331-d4a8-4403-a9ed-95f6f2066d3f"
      },
      "source": [
        "#si el viaje sucede de noche\n",
        "viaje = pd.Series({\n",
        "    \"genero_usuario\": \"M\",\n",
        "    \"id_estacion_destino\": 175,\n",
        "    \"franja_horaria_recorrido\": \"noche\",\n",
        "    \"misma_estacion\": True,\n",
        "})\n",
        "viaje = onehotencoder.transform(pd.DataFrame(viaje).transpose())\n",
        "regression.predict(viaje)"
      ],
      "execution_count": null,
      "outputs": [
        {
          "output_type": "execute_result",
          "data": {
            "text/plain": [
              "array([46.2890625])"
            ]
          },
          "metadata": {},
          "execution_count": 746
        }
      ]
    },
    {
      "cell_type": "code",
      "metadata": {
        "colab": {
          "base_uri": "https://localhost:8080/"
        },
        "id": "BVjDnzbVM6c1",
        "outputId": "0621ea36-11ce-4c55-a30f-84b5cd53a1b9"
      },
      "source": [
        "#si sucede de mañana\n",
        "viaje = pd.Series({\n",
        "    \"genero_usuario\": \"M\",\n",
        "    \"id_estacion_destino\": 175,\n",
        "    \"franja_horaria_recorrido\": \"mañana\",\n",
        "    \"misma_estacion\": True,\n",
        "})\n",
        "viaje = onehotencoder.transform(pd.DataFrame(viaje).transpose())\n",
        "regression.predict(viaje)"
      ],
      "execution_count": null,
      "outputs": [
        {
          "output_type": "execute_result",
          "data": {
            "text/plain": [
              "array([44.3828125])"
            ]
          },
          "metadata": {},
          "execution_count": 748
        }
      ]
    },
    {
      "cell_type": "markdown",
      "metadata": {
        "id": "ZgY-noy6NuQE"
      },
      "source": [
        "Si el viaje se hace a una estación cercana se ve que tarda menos que si se retira y se devuelve la bici de la misma estación.\n",
        "\n",
        "Si el viaje lo realiza una mujer, tardará ligeramente más que si lo realiza un hombre.\n",
        "\n",
        "En cuando a la franja horaria, la duración del viaje seguirá la lógica siguiente:\n",
        "duración a la tarde > duración a la noche > duración a la mañana > duración a la madrugada\n",
        "Siendo a la madrugada la menor duración del mismo viaje y la mayor a la tarde."
      ]
    },
    {
      "cell_type": "markdown",
      "metadata": {
        "id": "B60As2sx7FWK"
      },
      "source": [
        "##En conclusión\n",
        "Si bien hay analisis de datos que podemos inferir a partir de nuestro dataset, me di cuenta de que la componente humana en este dataset es tan grande que no es posible realizar una predicción que tenga un margen de error comparable con el de otros fenómenos dónde las decisiones humanas no intervengan o sean menos aleatorias.\n",
        "El margen de error en las predicciones es esperable, por lo antes dicho.\n",
        "\n",
        "No se tuvo en consideración factores climáticos o el día de la semana en el que se realizaron los viajes, pero podría realizarse un analisis de este tipo en futuros trabajos, por ejemplo cruzando la información sobre los días de lluvia con los datos del servicio metereológico nacional. Y los días de la semana con alguna librería que considere esta opción.\n",
        "\n",
        "Como nota final se consideró que la variable de misma estación quizás era redundante si estamos considerando la estación destino en primer lugar (que puede coincidir con la que estamos tomando de origen)."
      ]
    },
    {
      "cell_type": "code",
      "metadata": {
        "id": "PzbXHaNSL7h6"
      },
      "source": [
        ""
      ],
      "execution_count": null,
      "outputs": []
    }
  ]
}