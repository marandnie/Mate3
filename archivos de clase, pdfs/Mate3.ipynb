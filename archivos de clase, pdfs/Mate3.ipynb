{
  "nbformat": 4,
  "nbformat_minor": 0,
  "metadata": {
    "colab": {
      "name": "Mate3.ipynb",
      "provenance": []
    },
    "kernelspec": {
      "name": "python3",
      "display_name": "Python 3"
    },
    "language_info": {
      "name": "python"
    }
  },
  "cells": [
    {
      "cell_type": "code",
      "metadata": {
        "colab": {
          "base_uri": "https://localhost:8080/"
        },
        "id": "pWTOghv4fCre",
        "outputId": "90f7ae7d-ffdd-499b-d006-e0edd762c0d1"
      },
      "source": [
        "def main():\n",
        "    print(\"PRUEBA_1\")\n",
        "    print(\"¡Funciona!\")\n",
        "\n",
        "\n",
        "if __name__ == \"__main__\":\n",
        "    main()"
      ],
      "execution_count": 1,
      "outputs": [
        {
          "output_type": "stream",
          "text": [
            "PRUEBA_1\n",
            "¡Funciona!\n"
          ],
          "name": "stdout"
        }
      ]
    },
    {
      "cell_type": "code",
      "metadata": {
        "colab": {
          "base_uri": "https://localhost:8080/"
        },
        "id": "HIluwsOzf2Dn",
        "outputId": "96a90d96-efef-4484-d359-a5b7035bcae2"
      },
      "source": [
        "def main():\n",
        "    print(\"PRUEBA 2\")\n",
        "    nombre = input(\"Escriba su nombre: \")\n",
        "    print(f\"¡Hola, {nombre}!\")\n",
        "\n",
        "\n",
        "if __name__ == \"__main__\":\n",
        "    main()\n"
      ],
      "execution_count": 5,
      "outputs": [
        {
          "output_type": "stream",
          "text": [
            "PRUEBA 2\n",
            "Escriba su nombre: Marina\n",
            "¡Hola, Marina!\n"
          ],
          "name": "stdout"
        }
      ]
    },
    {
      "cell_type": "code",
      "metadata": {
        "colab": {
          "base_uri": "https://localhost:8080/"
        },
        "id": "RHaA3F-Sf55R",
        "outputId": "9cd5aaa2-c505-4da2-de8c-6471ed0ecabd"
      },
      "source": [
        "def main():\n",
        "\n",
        "    print(\n",
        "        'PRUEBA 3'\n",
        "    )\n",
        "\n",
        "    print(               'Piense un número de 1 a 4.'    )\n",
        "    print(\"Conteste S (sí) o N (no) a mis preguntas.\"                    )\n",
        "\n",
        "    primera = input(\"¿El número pensado es mayor que 2? \")\n",
        "    if  primera              ==       \"S\":\n",
        "            segunda = input             (\"¿El número pensado es mayor que 3? \")\n",
        "\n",
        "\n",
        "\n",
        "            if segunda==\"S\":\n",
        "                                print   (\"El número pensado es 4.\")\n",
        "            else:\n",
        "                    print   (\"El número pensado es 3\")\n",
        "    else:\n",
        "                segunda         =input(\"¿El número pensado es mayor que 1? \")\n",
        "\n",
        "\n",
        "\n",
        "                if          segunda=='S':\n",
        "                    print           (\"El número pensado es 2.\")\n",
        "                else:\n",
        "                    print(          \"El número pensado es 1.\"       )\n",
        "    print       (\n",
        "                 \"¡Hasta la próxima!\")\n",
        "if __name__ == \"__main__\":\n",
        "\n",
        "    main()"
      ],
      "execution_count": 3,
      "outputs": [
        {
          "output_type": "stream",
          "text": [
            "PRUEBA 3\n",
            "Piense un número de 1 a 4.\n",
            "Conteste S (sí) o N (no) a mis preguntas.\n",
            "¿El número pensado es mayor que 2? sí\n",
            "¿El número pensado es mayor que 1? sí\n",
            "El número pensado es 1.\n",
            "¡Hasta la próxima!\n"
          ],
          "name": "stdout"
        }
      ]
    },
    {
      "cell_type": "code",
      "metadata": {
        "colab": {
          "base_uri": "https://localhost:8080/"
        },
        "id": "pHjtig-ZjcVB",
        "outputId": "226f452f-9e0b-45f9-cab5-db63ade59f79"
      },
      "source": [
        "def main():\n",
        "\n",
        "    print(\n",
        "        'PRUEBA 3'\n",
        "    )\n",
        "\n",
        "    print(               'Piense un número de 1 a 4.'    )\n",
        "    print(\"Conteste S (sí) o N (no) a mis preguntas.\"                    )\n",
        "\n",
        "    primera = input(\"¿El número pensado es mayor que 2? \")\n",
        "    if  primera              ==       \"S\":\n",
        "            segunda = input             (\"¿El número pensado es mayor que 3? \")\n",
        "\n",
        "\n",
        "\n",
        "            if segunda==\"S\":\n",
        "                                print   (\"El número pensado es 4.\")\n",
        "            else:\n",
        "                    print   (\"El número pensado es 3\")\n",
        "    else:\n",
        "                segunda         =input(\"¿El número pensado es mayor que 1? \")\n",
        "\n",
        "\n",
        "\n",
        "                if          segunda=='S':\n",
        "                    print           (\"El número pensado es 2.\")\n",
        "                else:\n",
        "                    print(          \"El número pensado es 1.\"       )\n",
        "    print       (\n",
        "                 \"¡Hasta la próxima!\")\n",
        "if __name__ == \"__main__\":\n",
        "\n",
        "    main()"
      ],
      "execution_count": 6,
      "outputs": [
        {
          "output_type": "stream",
          "text": [
            "PRUEBA 3\n",
            "Piense un número de 1 a 4.\n",
            "Conteste S (sí) o N (no) a mis preguntas.\n",
            "¿El número pensado es mayor que 2? S\n",
            "¿El número pensado es mayor que 3? N\n",
            "El número pensado es 3\n",
            "¡Hasta la próxima!\n"
          ],
          "name": "stdout"
        }
      ]
    },
    {
      "cell_type": "code",
      "metadata": {
        "colab": {
          "base_uri": "https://localhost:8080/"
        },
        "id": "geobzyGBgE0p",
        "outputId": "3134d526-0c96-4898-cafe-03927a6bb10b"
      },
      "source": [
        "def main():\n",
        "    print(\"PRUEBA 4\")\n",
        "    nombre = input (\"Escriba su nombre: \")\n",
        "    print(f\"¡Hola, {nombre}!\")\n",
        "\n",
        "\n",
        "if __name__ == \"__main__\":\n",
        "    main()"
      ],
      "execution_count": 10,
      "outputs": [
        {
          "output_type": "stream",
          "text": [
            "PRUEBA 4\n",
            "Escriba su nombre: Marina\n",
            "¡Hola, Marina!\n"
          ],
          "name": "stdout"
        }
      ]
    }
  ]
}