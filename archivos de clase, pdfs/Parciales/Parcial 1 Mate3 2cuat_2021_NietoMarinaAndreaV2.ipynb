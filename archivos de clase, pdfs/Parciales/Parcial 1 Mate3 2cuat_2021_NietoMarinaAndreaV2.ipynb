{
  "nbformat": 4,
  "nbformat_minor": 5,
  "metadata": {
    "kernelspec": {
      "display_name": "Python 3",
      "language": "python",
      "name": "python3"
    },
    "language_info": {
      "codemirror_mode": {
        "name": "ipython",
        "version": 3
      },
      "file_extension": ".py",
      "mimetype": "text/x-python",
      "name": "python",
      "nbconvert_exporter": "python",
      "pygments_lexer": "ipython3",
      "version": "3.8.8"
    },
    "colab": {
      "name": "parcial1-mate3-2cuat-2021.ipynb",
      "provenance": [],
      "collapsed_sections": []
    }
  },
  "cells": [
    {
      "cell_type": "markdown",
      "metadata": {
        "id": "b6822c12"
      },
      "source": [
        "#### Clase 9, 1-10-2021: 1er. parcial Matemática III - 2do.cuat-2021\n",
        "\n",
        "Nombre y apellido: Marina Andrea Nieto"
      ],
      "id": "b6822c12"
    },
    {
      "cell_type": "markdown",
      "metadata": {
        "id": "ae0f00a1"
      },
      "source": [
        "# Datos"
      ],
      "id": "ae0f00a1"
    },
    {
      "cell_type": "code",
      "metadata": {
        "id": "99a6db1d"
      },
      "source": [
        "# En una zona del país, se realizó una encuesta de opinión a 1000 personas sobre 3 (tres)\n",
        "# categorías: Economía, Educación y Seguridad, y otras sub-categorías especificadas\n",
        "# sólo para Economía. Los datos se recolectaron en las siguientes estructuras:\n",
        "    \n",
        "# # 680 opinaron sobre Ecomomía.\n",
        "# Economia = {\"Gasto_público\": 40, \"Impuestos\": 118, \"Política_y_gobierno\": 50, \"Deuda_externa\": 95,\n",
        "#               \"Privilegios\": 56, \"Corrupción\":  131, \"Obra_pública\": 103, \"Planes\": 87}\n",
        "\n",
        "\n",
        "# # 320 opinaron sobre Seguridad.\n",
        "# Seguridad = (40, 50, 60, 75, 34, 61)\n",
        "\n",
        "\n",
        "# # 490 opinaron sobre Educación\n",
        "# Educacion = [34, 40, 61, 75, 87, 90, 103]\n",
        "    \n",
        "# En relación a los datos obtenidos:\n",
        "#     1) realizar las operaciones correspondientes\n",
        "#     2) realizar el diagrama de venn\n",
        "#     3) Responder en el gráfico las siguientes preguntas:\n",
        "#         a. cuántos opinaron sobre Seguridad, Educación y Economía.\n",
        "#         b. cuántos opinaron sobre sólo Economía y Educación?\n",
        "#         c. cuántos opinaron sobre sólo Economía?\n",
        "#         d. cuántos opinaron sobre solo Seguridad?\n",
        "#         e. cuántos opinaron sobre sólo Educación? \n",
        "#         f. cuántos opinaron sobre 2 de las 3 categorías?\n",
        "\n",
        "\n",
        "\n",
        "\n",
        "\n"
      ],
      "id": "99a6db1d",
      "execution_count": null,
      "outputs": []
    },
    {
      "cell_type": "code",
      "metadata": {
        "id": "68c749f4"
      },
      "source": [
        "Economia = {\"Gasto_público\": 40, \"Impuestos\": 118, \"Política_y_gobierno\": 50, \"Deuda_externa\": 95, \"Privilegios\": 56, \"Corrupción\":  131, \"Obra_pública\": 103, \"Planes\": 87}\n",
        "Seguridad = (40, 50, 60, 75, 34, 61)\n",
        "Educacion = [34, 40, 61, 75, 87, 90, 103]\n",
        "\n",
        "Seguridad = set([40, 50, 60, 75, 34, 61])\n",
        "Educacion = set([34, 40, 61, 75, 87, 90, 103])\n",
        "Economia = {\"Gasto_público\": 40, \"Impuestos\": 118, \"Política_y_gobierno\": 50, \"Deuda_externa\": 95, \"Privilegios\": 56, \"Corrupción\":  131, \"Obra_pública\": 103, \"Planes\": 87}\n",
        "Gasto_publico = set([40])\n",
        "Impuestos = set([118])\n",
        "Politica_y_gobierno = set([50])\n",
        "Deuda_externa = set([95])\n",
        "Privilegios = set([56])\n",
        "Corrupcion = set([131])\n",
        "Obra_publica = set([103])\n",
        "Planes = set([87])\n",
        "#Economia = set([Gasto_publico, Impuestos, Politica_y_gobierno, Deuda_externa, Privilegios, Corrupcion, Obra_publica, Planes])\n",
        "Economia = set(Economia.values())"
      ],
      "id": "68c749f4",
      "execution_count": 13,
      "outputs": []
    },
    {
      "cell_type": "code",
      "metadata": {
        "colab": {
          "base_uri": "https://localhost:8080/",
          "height": 341
        },
        "id": "Jug9PKNIJlxO",
        "outputId": "632b4e11-f253-4cc9-d535-ad656fedd454"
      },
      "source": [
        "import matplotlib.pyplot as plt\n",
        "from matplotlib_venn import venn3, venn3_circles\n",
        "\n",
        "plt.figure(figsize=(7,5), facecolor='ivory')\n",
        "diagram = venn3(subsets= (Seguridad, Educacion, Economia), set_labels= ('Seguridad', 'Educacion', 'Economia'))\n",
        "for subset in (\"111\", \"110\", \"101\", \"100\", \"011\", \"010\", \"001\"):\n",
        "  diagram.get_label_by_id(subset).set_fontsize(0)\n",
        "\n",
        "soloEconomia=sum(Economia-intersegedueco-interedueco-intersegeco)\n",
        "soloSeguridad=sum(Seguridad-intersegedueco-intersegedu-intersegeco)\n",
        "soloEducacion=sum(Educacion-intersegedueco-interedueco-intersegedu)\n",
        "intersegedueco=set(Seguridad.intersection(Educacion).intersection(Economia))\n",
        "interedueco=set(Economia.intersection(Educacion))\n",
        "intersegedu=set(Seguridad.intersection(Educacion))\n",
        "intersegeco=set(Seguridad.intersection(Economia))\n",
        "sumatoria_intersec = interedueco.union(intersegedu).union(intersegeco)-intersegedueco\n",
        "\n",
        "plt.annotate(str(sum(intersegedueco)), xy= diagram.get_label_by_id('111').get_position(), xytext= (0,-70), size = 'large', ha = 'center', textcoords= 'offset points', bbox= dict(boxstyle= 'round, pad = 0.5', fc= 'lime', alpha = 0.3),\n",
        "arrowprops= dict(arrowstyle= '->', connectionstyle= 'arc3,rad = 0',color = 'gray'))\n",
        "plt.annotate(str(sum(interedueco)), xy= diagram.get_label_by_id('011').get_position(), xytext= (0,-70), size = 'large', ha = 'center', textcoords= 'offset points', bbox= dict(boxstyle= 'round, pad = 0.5', fc= 'lime', alpha = 0.3),\n",
        "arrowprops= dict(arrowstyle= '->', connectionstyle= 'arc3,rad = 0',color = 'gray'))\n",
        "plt.annotate(str(soloEconomia), xy= diagram.get_label_by_id('001').get_position(), xytext= (0,-70), size = 'large', ha = 'center', textcoords= 'offset points', bbox= dict(boxstyle= 'round, pad = 0.5', fc= 'lime', alpha = 0.3),\n",
        "arrowprops= dict(arrowstyle= '->', connectionstyle= 'arc3,rad = 0',color = 'gray'))\n",
        "plt.annotate(str(soloSeguridad), xy= diagram.get_label_by_id('100').get_position(), xytext= (0,-70), size = 'large', ha = 'center', textcoords= 'offset points', bbox= dict(boxstyle= 'round, pad = 0.5', fc= 'lime', alpha = 0.3),\n",
        "arrowprops= dict(arrowstyle= '->', connectionstyle= 'arc3,rad = 0',color = 'gray'))\n",
        "plt.annotate(str(soloEducacion), xy= diagram.get_label_by_id('010').get_position(), xytext= (0,-70), size = 'large', ha = 'center', textcoords= 'offset points', bbox= dict(boxstyle= 'round, pad = 0.5', fc= 'lime', alpha = 0.3),\n",
        "arrowprops= dict(arrowstyle= '->', connectionstyle= 'arc3,rad = 0',color = 'gray'))\n",
        "plt.show()\n",
        "\n",
        "#Al final me di cuenta que no puse los que SOLO opinaron sobre una categorìa, sino que me faltó restar a los que opinaron de otros temas también, pero me quedé sin tiempo. Debo corregirlo.\n",
        "\n",
        "print(sum(sumatoria_intersec), \"personas opinaron sobre 2 de 3 categorías\")"
      ],
      "id": "Jug9PKNIJlxO",
      "execution_count": 56,
      "outputs": [
        {
          "output_type": "display_data",
          "data": {
            "image/png": "[encoded data removed]",
            "text/plain": [
              "<Figure size 504x360 with 1 Axes>"
            ]
          },
          "metadata": {}
        },
        {
          "output_type": "stream",
          "name": "stdout",
          "text": [
            "410 personas opinaron sobre 2 de 3 categorías\n"
          ]
        }
      ]
    }
  ]
}