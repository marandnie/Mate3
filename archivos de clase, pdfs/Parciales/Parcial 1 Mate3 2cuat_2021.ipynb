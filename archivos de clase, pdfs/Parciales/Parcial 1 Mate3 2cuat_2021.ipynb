{
 "cells": [
  {
   "cell_type": "markdown",
   "id": "b6822c12",
   "metadata": {},
   "source": [
    "#### Clase 9, 1-10-2021: 1er. parcial Matemática III - 2do.cuat-2021\n",
    "\n",
    "Nombre y apellido:"
   ]
  },
  {
   "cell_type": "markdown",
   "id": "ae0f00a1",
   "metadata": {},
   "source": [
    "# Datos"
   ]
  },
  {
   "cell_type": "code",
   "execution_count": 2,
   "id": "99a6db1d",
   "metadata": {},
   "outputs": [],
   "source": [
    "# En una zona del país, se realizó una encuesta de opinión a 1000 personas sobre 3 (tres)\n",
    "# categorías: Economía, Educación y Seguridad, y otras sub-categorías especificadas\n",
    "# sólo para Economía. Los datos se recolectaron en las siguientes estructuras:\n",
    "    \n",
    "# # 680 opinaron sobre Ecomomía.\n",
    "# Economia = {\"Gasto_público\": 40, \"Impuestos\": 118, \"Política_y_gobierno\": 50, \"Deuda_externa\": 95,\n",
    "#               \"Privilegios\": 56, \"Corrupción\":  131, \"Obra_pública\": 103, \"Planes\": 87}\n",
    "\n",
    "\n",
    "# # 320 opinaron sobre Seguridad.\n",
    "# Seguridad = (40, 50, 60, 75, 34, 61)\n",
    "\n",
    "\n",
    "# # 490 opinaron sobre Educación\n",
    "# Educacion = [34, 40, 61, 75, 87, 90, 103]\n",
    "    \n",
    "# En relación a los datos obtenidos:\n",
    "#     1) realizar las operaciones correspondientes\n",
    "#     2) realizar el gráfico en networkx\n",
    "#     3) Responder en el gráfico las siguientes preguntas:\n",
    "#         a. cuántos opinaron sobre Seguridad, Educación y Economía.\n",
    "#         b. cuántos opinaron sobre sólo Economía y Educación?\n",
    "#         c. cuántos opinaron sobre sólo Economía?\n",
    "#         d. cuántos opinaron sobre solo Seguridad?\n",
    "#         e. cuántos opinaron sobre sólo Educación? \n",
    "#         f. cuántos opinaron sobre 2 de las 3 categorías?"
   ]
  },
  {
   "cell_type": "code",
   "execution_count": null,
   "id": "68c749f4",
   "metadata": {},
   "outputs": [],
   "source": []
  }
 ],
 "metadata": {
  "kernelspec": {
   "display_name": "Python 3",
   "language": "python",
   "name": "python3"
  },
  "language_info": {
   "codemirror_mode": {
    "name": "ipython",
    "version": 3
   },
   "file_extension": ".py",
   "mimetype": "text/x-python",
   "name": "python",
   "nbconvert_exporter": "python",
   "pygments_lexer": "ipython3",
   "version": "3.8.8"
  }
 },
 "nbformat": 4,
 "nbformat_minor": 5
}
