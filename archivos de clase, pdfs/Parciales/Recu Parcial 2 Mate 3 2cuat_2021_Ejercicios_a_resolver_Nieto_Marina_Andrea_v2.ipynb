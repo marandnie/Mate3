{
  "nbformat": 4,
  "nbformat_minor": 5,
  "metadata": {
    "kernelspec": {
      "display_name": "Python 3",
      "language": "python",
      "name": "python3"
    },
    "language_info": {
      "codemirror_mode": {
        "name": "ipython",
        "version": 3
      },
      "file_extension": ".py",
      "mimetype": "text/x-python",
      "name": "python",
      "nbconvert_exporter": "python",
      "pygments_lexer": "ipython3",
      "version": "3.8.8"
    },
    "colab": {
      "name": "recu-parcial2-mate3-2cuat-2021-Ejercicios-a-resolver_Nieto-Marina-Andrea.ipynb",
      "provenance": [],
      "collapsed_sections": []
    }
  },
  "cells": [
    {
      "cell_type": "code",
      "metadata": {
        "id": "kOfVEazWkGON"
      },
      "source": [
        "import networkx as nx\n",
        "import matplotlib.pyplot as plt\n",
        "import re"
      ],
      "id": "kOfVEazWkGON",
      "execution_count": 53,
      "outputs": []
    },
    {
      "cell_type": "markdown",
      "metadata": {
        "id": "1e10758a"
      },
      "source": [
        "1.\tCrear la clase grafo (en Python) para el ejercicio 2. (valor = 1 punto)"
      ],
      "id": "1e10758a"
    },
    {
      "cell_type": "code",
      "metadata": {
        "id": "G0imgeCdVkfz"
      },
      "source": [
        "class Grafo(nx.Graph):\n",
        "  def __init__(\n",
        "      self,\n",
        "      lista_nodos=[],\n",
        "      pesos_enlaces=[]\n",
        "  ):\n",
        "    super().__init__(self)\n",
        "    self.add_nodes_from(lista_nodos)\n",
        "    self.add_weighted_edges_from(pesos_enlaces)"
      ],
      "id": "G0imgeCdVkfz",
      "execution_count": 14,
      "outputs": []
    },
    {
      "cell_type": "markdown",
      "metadata": {
        "id": "77ab9270"
      },
      "source": [
        "2.\tDada la siguiente matriz que determina nodos, pesos y conexiones, resolver usando networkx:\n",
        "\n",
        "<table>\n",
        "\t<thead>\n",
        "\t<tr>\n",
        "\t\t<th></th>\n",
        "\t\t<th>A</th>\n",
        "\t\t<th>B</th>\n",
        "\t\t<th>C</th>\n",
        "\t\t<th>D</th>\n",
        "\t\t<th>E</th>\n",
        "\t\t<th>F</th>\n",
        "\t\t<th>G</th>\n",
        "\t\t<th>H</th>\n",
        "\t</tr>\n",
        "\t</thead>\n",
        "\t<tbody>\n",
        "\t<tr>\n",
        "\t\t<td>A</td>\n",
        "\t\t<td></td>\n",
        "\t\t<td>16</td>\n",
        "\t\t<td>10</td>\n",
        "\t\t<td>5</td>\n",
        "\t\t<td></td>\n",
        "\t\t<td></td>\n",
        "\t\t<td></td>\n",
        "\t\t<td></td>\n",
        "\t</tr>\n",
        "\t<tr>\n",
        "\t\t<td>B</td>\n",
        "\t\t<td></td>\n",
        "\t\t<td></td>\n",
        "\t\t<td>2</td>\n",
        "\t\t<td></td>\n",
        "\t\t<td></td>\n",
        "\t\t<td>4</td>\n",
        "\t\t<td>6</td>\n",
        "\t\t<td></td>\n",
        "\t</tr>\n",
        "\t<tr>\n",
        "\t\t<td>C</td>\n",
        "\t\t<td></td>\n",
        "\t\t<td></td>\n",
        "\t\t<td></td>\n",
        "\t\t<td>4</td>\n",
        "\t\t<td>10</td>\n",
        "\t\t<td>12</td>\n",
        "\t\t<td></td>\n",
        "\t\t<td></td>\n",
        "\t</tr>\n",
        "\t<tr>\n",
        "    <td>D</td>\n",
        "\t\t<td></td>\n",
        "\t\t<td></td>\n",
        "\t\t<td></td>\n",
        "\t\t<td></td>\n",
        "\t\t<td>15</td>\n",
        "\t\t<td></td>\n",
        "\t\t<td></td>\n",
        "\t\t<td></td>\n",
        "\t</tr>\n",
        "\t<tr>\n",
        "    <td>E</td>\n",
        "\t\t<td></td>\n",
        "\t\t<td></td>\n",
        "\t\t<td></td>\n",
        "\t\t<td></td>\n",
        "\t\t<td></td>\n",
        "\t\t<td>3</td>\n",
        "\t\t<td></td>\n",
        "\t\t<td>5</td>\n",
        "\t</tr>\n",
        "\t<tr>\n",
        "    <td>F</td>\n",
        "\t\t<td></td>\n",
        "\t\t<td></td>\n",
        "\t\t<td></td>\n",
        "\t\t<td></td>\n",
        "\t\t<td></td>\n",
        "\t\t<td></td>\n",
        "\t\t<td>8</td>\n",
        "\t\t<td>16</td>\n",
        "\t</tr>\n",
        "\t<tr>\n",
        "    <td>G</td>\n",
        "\t\t<td></td>\n",
        "\t\t<td></td>\n",
        "\t\t<td></td>\n",
        "\t\t<td></td>\n",
        "\t\t<td></td>\n",
        "\t\t<td></td>\n",
        "\t\t<td></td>\n",
        "\t\t<td>7</td>\n",
        "\t</tr>\n",
        "\t<tbody>\n",
        "</table>"
      ],
      "id": "77ab9270"
    },
    {
      "cell_type": "code",
      "metadata": {
        "colab": {
          "base_uri": "https://localhost:8080/"
        },
        "id": "f57b5e5a",
        "outputId": "60b92c00-bd6d-4e61-8853-01772ecc9014"
      },
      "source": [
        "# a.\tConstruir los nodos.\n",
        "lista_nodos = [\"A\",\"B\",\"C\",\"D\",\"E\",\"F\",\"G\",\"H\"]\n",
        "g = Grafo(lista_nodos)\n",
        "print(g)"
      ],
      "id": "f57b5e5a",
      "execution_count": 15,
      "outputs": [
        {
          "output_type": "stream",
          "name": "stdout",
          "text": [
            "Grafo with 8 nodes and 0 edges\n"
          ]
        }
      ]
    },
    {
      "cell_type": "code",
      "metadata": {
        "colab": {
          "base_uri": "https://localhost:8080/"
        },
        "id": "ABDuqlWBTkoR",
        "outputId": "5ccb8a51-d5bd-4883-ea11-402621ec7740"
      },
      "source": [
        "# b. Construir con enlaces y pesos.\n",
        "pesos_enlaces = [\n",
        "    ('A', 'B', 16),\n",
        "    ('A', 'C', 10),\n",
        "    ('A', 'D', 5),\n",
        "    ('B', 'C', 2),\n",
        "    ('B', 'F', 4),\n",
        "    ('B', 'G', 6),\n",
        "    ('C', 'D', 4),\n",
        "    ('C', 'E', 10),\n",
        "    ('C', 'F', 12),\n",
        "    ('D', 'E', 15),\n",
        "    ('E', 'F', 3),\n",
        "    ('E', 'H', 5),\n",
        "    ('F', 'G', 8),\n",
        "    ('F', 'H', 16),\n",
        "    ('G', 'H', 7),\n",
        "]\n",
        "g = Grafo(lista_nodos, pesos_enlaces)\n",
        "print(g)"
      ],
      "id": "ABDuqlWBTkoR",
      "execution_count": 16,
      "outputs": [
        {
          "output_type": "stream",
          "name": "stdout",
          "text": [
            "Grafo with 8 nodes and 15 edges\n"
          ]
        }
      ]
    },
    {
      "cell_type": "code",
      "metadata": {
        "colab": {
          "base_uri": "https://localhost:8080/"
        },
        "id": "ba2a14ab",
        "outputId": "10b9dadf-235e-44f4-dbc5-403e82190e8a"
      },
      "source": [
        "# c.\tEmitir los vecinos de ‘h’.\n",
        "print(list(g.neighbors('H')))"
      ],
      "id": "ba2a14ab",
      "execution_count": 18,
      "outputs": [
        {
          "output_type": "stream",
          "name": "stdout",
          "text": [
            "['E', 'F', 'G']\n"
          ]
        }
      ]
    },
    {
      "cell_type": "code",
      "metadata": {
        "colab": {
          "base_uri": "https://localhost:8080/"
        },
        "id": "b6048b43",
        "outputId": "6a69c902-2120-4d9b-895a-50b0ca029de7"
      },
      "source": [
        "# d.\tEmitir cantidad de aristas de cada nodo\n",
        "cantidad_de_aristas = g.degree()\n",
        "print(cantidad_de_aristas)"
      ],
      "id": "b6048b43",
      "execution_count": 21,
      "outputs": [
        {
          "output_type": "stream",
          "name": "stdout",
          "text": [
            "[('A', 3), ('B', 4), ('C', 5), ('D', 3), ('E', 4), ('F', 5), ('G', 3), ('H', 3)]\n"
          ]
        }
      ]
    },
    {
      "cell_type": "code",
      "metadata": {
        "colab": {
          "base_uri": "https://localhost:8080/"
        },
        "id": "77ba4a44",
        "outputId": "f6be3a32-462c-4681-d264-b33e5047703b"
      },
      "source": [
        "# e.\tConvertir en diccionario la salida anterior\n",
        "print(dict(cantidad_de_aristas))"
      ],
      "id": "77ba4a44",
      "execution_count": 22,
      "outputs": [
        {
          "output_type": "stream",
          "name": "stdout",
          "text": [
            "{'A': 3, 'B': 4, 'C': 5, 'D': 3, 'E': 4, 'F': 5, 'G': 3, 'H': 3}\n"
          ]
        }
      ]
    },
    {
      "cell_type": "code",
      "metadata": {
        "colab": {
          "base_uri": "https://localhost:8080/"
        },
        "id": "99129a01",
        "outputId": "f1e2fc89-d61a-4ed4-df40-c1528517c687"
      },
      "source": [
        "# f.\tCrear y emitir la matriz de adyacencia y emitirla.\n",
        "print(nx.adjacency_matrix(g))"
      ],
      "id": "99129a01",
      "execution_count": 26,
      "outputs": [
        {
          "output_type": "stream",
          "name": "stdout",
          "text": [
            "  (0, 1)\t16\n",
            "  (0, 2)\t10\n",
            "  (0, 3)\t5\n",
            "  (1, 0)\t16\n",
            "  (1, 2)\t2\n",
            "  (1, 5)\t4\n",
            "  (1, 6)\t6\n",
            "  (2, 0)\t10\n",
            "  (2, 1)\t2\n",
            "  (2, 3)\t4\n",
            "  (2, 4)\t10\n",
            "  (2, 5)\t12\n",
            "  (3, 0)\t5\n",
            "  (3, 2)\t4\n",
            "  (3, 4)\t15\n",
            "  (4, 2)\t10\n",
            "  (4, 3)\t15\n",
            "  (4, 5)\t3\n",
            "  (4, 7)\t5\n",
            "  (5, 1)\t4\n",
            "  (5, 2)\t12\n",
            "  (5, 4)\t3\n",
            "  (5, 6)\t8\n",
            "  (5, 7)\t16\n",
            "  (6, 1)\t6\n",
            "  (6, 5)\t8\n",
            "  (6, 7)\t7\n",
            "  (7, 4)\t5\n",
            "  (7, 5)\t16\n",
            "  (7, 6)\t7\n"
          ]
        }
      ]
    },
    {
      "cell_type": "code",
      "metadata": {
        "colab": {
          "base_uri": "https://localhost:8080/"
        },
        "id": "92742271",
        "outputId": "dde8c1f4-26e7-4334-b64c-0d973dd0bd26"
      },
      "source": [
        "# g. Crear y emitir la matriz de incidencia y emitirla.\n",
        "print(nx.incidence_matrix(g))"
      ],
      "id": "92742271",
      "execution_count": 28,
      "outputs": [
        {
          "output_type": "stream",
          "name": "stdout",
          "text": [
            "  (0, 0)\t1.0\n",
            "  (1, 0)\t1.0\n",
            "  (0, 1)\t1.0\n",
            "  (2, 1)\t1.0\n",
            "  (0, 2)\t1.0\n",
            "  (3, 2)\t1.0\n",
            "  (1, 3)\t1.0\n",
            "  (2, 3)\t1.0\n",
            "  (1, 4)\t1.0\n",
            "  (5, 4)\t1.0\n",
            "  (1, 5)\t1.0\n",
            "  (6, 5)\t1.0\n",
            "  (2, 6)\t1.0\n",
            "  (3, 6)\t1.0\n",
            "  (2, 7)\t1.0\n",
            "  (4, 7)\t1.0\n",
            "  (2, 8)\t1.0\n",
            "  (5, 8)\t1.0\n",
            "  (3, 9)\t1.0\n",
            "  (4, 9)\t1.0\n",
            "  (4, 10)\t1.0\n",
            "  (5, 10)\t1.0\n",
            "  (4, 11)\t1.0\n",
            "  (7, 11)\t1.0\n",
            "  (5, 12)\t1.0\n",
            "  (6, 12)\t1.0\n",
            "  (5, 13)\t1.0\n",
            "  (7, 13)\t1.0\n",
            "  (6, 14)\t1.0\n",
            "  (7, 14)\t1.0\n"
          ]
        }
      ]
    },
    {
      "cell_type": "code",
      "metadata": {
        "colab": {
          "base_uri": "https://localhost:8080/"
        },
        "id": "c013e3ee",
        "outputId": "cbbbd0b2-670d-4ef0-93a3-4cb02bc34c30"
      },
      "source": [
        "# h. Emitir la ruta ponderada más corta entre ‘a’ y ‘h’ usando el algoritmo de Dijkstra.\n",
        "print(nx.algorithms.dijkstra_path(g, 'A', 'H'))"
      ],
      "id": "c013e3ee",
      "execution_count": 30,
      "outputs": [
        {
          "output_type": "stream",
          "name": "stdout",
          "text": [
            "['A', 'D', 'C', 'B', 'F', 'E', 'H']\n"
          ]
        }
      ]
    },
    {
      "cell_type": "code",
      "metadata": {
        "colab": {
          "base_uri": "https://localhost:8080/"
        },
        "id": "588e5754",
        "outputId": "79470968-2bcb-436d-e936-f40d85acaf9d"
      },
      "source": [
        "# i. Emitir la longitud de la ruta ponderada entre ‘a’ y ‘h’.\n",
        "print(nx.algorithms.dijkstra_path_length(g, 'A', 'H'))"
      ],
      "id": "588e5754",
      "execution_count": 31,
      "outputs": [
        {
          "output_type": "stream",
          "name": "stdout",
          "text": [
            "23\n"
          ]
        }
      ]
    },
    {
      "cell_type": "code",
      "metadata": {
        "colab": {
          "base_uri": "https://localhost:8080/"
        },
        "id": "a6ec09cf",
        "outputId": "24cedae6-af39-4c04-d401-2a038854641c"
      },
      "source": [
        "# j. Emitir la longitud de la ruta desde el nodo ‘c’.\n",
        "print(nx.algorithms.dijkstra_path_length(g, 'C','H'))"
      ],
      "id": "a6ec09cf",
      "execution_count": 35,
      "outputs": [
        {
          "output_type": "stream",
          "name": "stdout",
          "text": [
            "14\n"
          ]
        }
      ]
    },
    {
      "cell_type": "code",
      "metadata": {
        "colab": {
          "base_uri": "https://localhost:8080/"
        },
        "id": "bd77cdb4",
        "outputId": "870a00a7-8d01-40f5-8c52-7237da48fa73"
      },
      "source": [
        "# k. Emitir el radio del grafo.\n",
        "print(nx.radius(g))"
      ],
      "id": "bd77cdb4",
      "execution_count": 36,
      "outputs": [
        {
          "output_type": "stream",
          "name": "stdout",
          "text": [
            "2\n"
          ]
        }
      ]
    },
    {
      "cell_type": "code",
      "metadata": {
        "colab": {
          "base_uri": "https://localhost:8080/"
        },
        "id": "5d33e6d9",
        "outputId": "b96b7d46-d780-45f8-8c10-6d736d3338fc"
      },
      "source": [
        "# l. Emitir el diámetro del grafo.\n",
        "print(nx.diameter(g))"
      ],
      "id": "5d33e6d9",
      "execution_count": 37,
      "outputs": [
        {
          "output_type": "stream",
          "name": "stdout",
          "text": [
            "3\n"
          ]
        }
      ]
    },
    {
      "cell_type": "code",
      "metadata": {
        "colab": {
          "base_uri": "https://localhost:8080/"
        },
        "id": "e9dd96de",
        "outputId": "6cbc9c8a-b2d1-4dc3-cf49-fd13cf5fc9e5"
      },
      "source": [
        "# m. Emitir la excentricidad.\n",
        "print(nx.eccentricity(g))"
      ],
      "id": "e9dd96de",
      "execution_count": 38,
      "outputs": [
        {
          "output_type": "stream",
          "name": "stdout",
          "text": [
            "{'A': 3, 'B': 2, 'C': 2, 'D': 3, 'E': 2, 'F': 2, 'G': 3, 'H': 3}\n"
          ]
        }
      ]
    },
    {
      "cell_type": "code",
      "metadata": {
        "colab": {
          "base_uri": "https://localhost:8080/"
        },
        "id": "85760993",
        "outputId": "0b1b6bd5-2c73-41b8-9099-6d5d0227e81f"
      },
      "source": [
        "# n. Emitir el centro del grafo.\n",
        "print(nx.center(g))"
      ],
      "id": "85760993",
      "execution_count": 39,
      "outputs": [
        {
          "output_type": "stream",
          "name": "stdout",
          "text": [
            "['B', 'C', 'E', 'F']\n"
          ]
        }
      ]
    },
    {
      "cell_type": "code",
      "metadata": {
        "colab": {
          "base_uri": "https://localhost:8080/"
        },
        "id": "5cb56fd8",
        "outputId": "a5eb9857-6380-4ba8-c154-131a75706064"
      },
      "source": [
        "# o. Emitir la periferia del grafo.\n",
        "print(nx.periphery(g))"
      ],
      "id": "5cb56fd8",
      "execution_count": 40,
      "outputs": [
        {
          "output_type": "stream",
          "name": "stdout",
          "text": [
            "['A', 'D', 'G', 'H']\n"
          ]
        }
      ]
    },
    {
      "cell_type": "code",
      "metadata": {
        "colab": {
          "base_uri": "https://localhost:8080/"
        },
        "id": "8ba0f299",
        "outputId": "0d8a603f-79c7-4c56-a928-f241e84a087f"
      },
      "source": [
        "# p. Emitir la densidad.\n",
        "print(nx.density(g))"
      ],
      "id": "8ba0f299",
      "execution_count": 41,
      "outputs": [
        {
          "output_type": "stream",
          "name": "stdout",
          "text": [
            "0.5357142857142857\n"
          ]
        }
      ]
    },
    {
      "cell_type": "code",
      "metadata": {
        "colab": {
          "base_uri": "https://localhost:8080/",
          "height": 508
        },
        "id": "bf979400",
        "outputId": "4a8261c9-d12e-4441-c4d5-e555c240e28a"
      },
      "source": [
        "# q. Dibujar el grafo y emitir con matplotlib.pyplot.\n",
        "\n",
        "pos = nx.spring_layout(g)\n",
        "nx.draw_networkx(g)\n",
        "labels = nx.get_edge_attributes(g,'weight')\n",
        "nx.draw_networkx_edge_labels(g,pos,edge_labels=labels)"
      ],
      "id": "bf979400",
      "execution_count": 48,
      "outputs": [
        {
          "output_type": "execute_result",
          "data": {
            "text/plain": [
              "{('A', 'B'): Text(-0.5243872688585437, 0.6516409093294534, '16'),\n",
              " ('A', 'C'): Text(-0.6068273963366683, 0.1906413481544959, '10'),\n",
              " ('A', 'D'): Text(-0.857127598073401, -0.1306618294915055, '5'),\n",
              " ('B', 'C'): Text(-0.2727319946691597, 0.38417197665772346, '2'),\n",
              " ('B', 'F'): Text(0.12060167716806112, 0.4755178572150776, '4'),\n",
              " ('B', 'G'): Text(0.36261528685700517, 0.6436331761173442, '6'),\n",
              " ('C', 'D'): Text(-0.605472323884017, -0.39813076216323545, '4'),\n",
              " ('C', 'E'): Text(-0.22123529954718188, -0.41898856294962733, '10'),\n",
              " ('C', 'F'): Text(0.03816154968993654, 0.01451829604012015, '12'),\n",
              " ('D', 'E'): Text(-0.4715355012839145, -0.7402917405956287, '15'),\n",
              " ('E', 'F'): Text(0.17209837229003894, -0.3276426823922732, '3'),\n",
              " ('E', 'H'): Text(0.4563507615264602, -0.5274896426659594, '5'),\n",
              " ('F', 'G'): Text(0.6735088312161014, 0.2739794954997408, '8'),\n",
              " ('F', 'H'): Text(0.7157476107635786, -0.09398278367621196, '16'),\n",
              " ('G', 'H'): Text(0.9577612204525227, 0.07413253522605454, '7')}"
            ]
          },
          "metadata": {},
          "execution_count": 48
        },
        {
          "output_type": "display_data",
          "data": {
            "image/png": "[encoded data removed]",
            "text/plain": [
              "<Figure size 432x288 with 1 Axes>"
            ]
          },
          "metadata": {}
        }
      ]
    },
    {
      "cell_type": "code",
      "metadata": {
        "id": "2a3c1313"
      },
      "source": [
        "# r. Convertir en grafo dirigido.\n",
        "dg = g.to_directed()"
      ],
      "id": "2a3c1313",
      "execution_count": 51,
      "outputs": []
    },
    {
      "cell_type": "code",
      "metadata": {
        "colab": {
          "base_uri": "https://localhost:8080/",
          "height": 769
        },
        "id": "4e215b05",
        "outputId": "8f05d1d6-dfc7-426d-8731-fd0cd2cddfac"
      },
      "source": [
        "# s. Dibujar el nuevo grafo y emitir con matplotlib.pyplot.\n",
        "pos = nx.spring_layout(dg)\n",
        "nx.draw_networkx(dg)\n",
        "labels = nx.get_edge_attributes(dg,'weight')\n",
        "nx.draw_networkx_edge_labels(dg,pos,edge_labels=labels)"
      ],
      "id": "4e215b05",
      "execution_count": 52,
      "outputs": [
        {
          "output_type": "execute_result",
          "data": {
            "text/plain": [
              "{('A', 'B'): Text(-0.3948652675568204, -0.6995608034053662, '16'),\n",
              " ('A', 'C'): Text(-0.5520956635912126, -0.2246239179768575, '10'),\n",
              " ('A', 'D'): Text(-0.8614722647806037, 0.04059040148142523, '5'),\n",
              " ('B', 'A'): Text(-0.3948652675568204, -0.6995608034053662, '16'),\n",
              " ('B', 'C'): Text(-0.19985990562868136, -0.3845262068539581, '2'),\n",
              " ('B', 'F'): Text(0.20963828387977318, -0.42587025334459117, '4'),\n",
              " ('B', 'G'): Text(0.4786852452028555, -0.6971409619044414, '6'),\n",
              " ('C', 'A'): Text(-0.5520956635912126, -0.2246239179768575, '10'),\n",
              " ('C', 'B'): Text(-0.19985990562868136, -0.3845262068539581, '2'),\n",
              " ('C', 'D'): Text(-0.6664669028524647, 0.3556249980328334, '4'),\n",
              " ('C', 'E'): Text(-0.3073990715592033, 0.44752503540285715, '10'),\n",
              " ('C', 'F'): Text(0.05240788784538089, 0.04906663208391761, '12'),\n",
              " ('D', 'A'): Text(-0.8614722647806037, 0.04059040148142523, '5'),\n",
              " ('D', 'C'): Text(-0.6664669028524647, 0.3556249980328334, '4'),\n",
              " ('D', 'E'): Text(-0.6167756727485944, 0.7127393548611398, '15'),\n",
              " ('E', 'C'): Text(-0.3073990715592033, 0.44752503540285715, '10'),\n",
              " ('E', 'D'): Text(-0.6167756727485944, 0.7127393548611398, '15'),\n",
              " ('E', 'F'): Text(0.10209911794925125, 0.4061809889122241, '3'),\n",
              " ('E', 'H'): Text(0.3303791317323681, 0.6074839283390978, '5'),\n",
              " ('F', 'B'): Text(0.20963828387977318, -0.42587025334459117, '4'),\n",
              " ('F', 'C'): Text(0.05240788784538089, 0.04906663208391761, '12'),\n",
              " ('F', 'E'): Text(0.10209911794925125, 0.4061809889122241, '3'),\n",
              " ('F', 'G'): Text(0.7309530386769177, -0.2635481229665657, '8'),\n",
              " ('F', 'H'): Text(0.6901860911369523, 0.20902552502015823, '16'),\n",
              " ('G', 'B'): Text(0.4786852452028555, -0.6971409619044414, '6'),\n",
              " ('G', 'F'): Text(0.7309530386769177, -0.2635481229665657, '8'),\n",
              " ('G', 'H'): Text(0.9592330524600345, -0.06224518353969202, '7'),\n",
              " ('H', 'E'): Text(0.3303791317323681, 0.6074839283390978, '5'),\n",
              " ('H', 'F'): Text(0.6901860911369523, 0.20902552502015823, '16'),\n",
              " ('H', 'G'): Text(0.9592330524600345, -0.06224518353969202, '7')}"
            ]
          },
          "metadata": {},
          "execution_count": 52
        },
        {
          "output_type": "display_data",
          "data": {
            "image/png": "[encoded data removed]",
            "text/plain": [
              "<Figure size 432x288 with 1 Axes>"
            ]
          },
          "metadata": {}
        }
      ]
    },
    {
      "cell_type": "markdown",
      "metadata": {
        "id": "h6ZowUksUCwC"
      },
      "source": [
        "3. Las siguientes líneas de texto fueron extraídas de un archivo con muchas entradas, representan:\n",
        "\n",
        "código IATA de aeropuerto de origen,\n",
        "\n",
        "código IATA de aeropuerto de destino,\n",
        "\n",
        "duración del viaje\n",
        "\n",
        "y precio.\n",
        "\n",
        "Encuentra la expresión regular para extraer de cada línea el aeropuerto de origen y el precio.\n",
        "\n",
        "Por ejemplo para la primera línea será 'AEP; 680.00'.\n",
        "\n",
        "Desarrolla el código correspondiente en Python.\n",
        "\n",
        "AEP;CNQ;95.45;680.00\n",
        "\n",
        "EZE;IRJ;39.50;4780.00\n",
        "\n",
        "JNI;COC;51.44;1160.00\n",
        "\n",
        "LPG;AEP;66.26;7580.00\n",
        "\n",
        "MDQ;GPO;18.85;720.00\n",
        "\n",
        "FDO;RYO;26.49;340.00"
      ],
      "id": "h6ZowUksUCwC"
    },
    {
      "cell_type": "code",
      "metadata": {
        "id": "G-utoEUvlmfB"
      },
      "source": [
        "texto = \"\"\"AEP;CNQ;95.45;680.00\n",
        "        EZE;IRJ;39.50;4780.00\n",
        "        JNI;COC;51.44;1160.00\n",
        "        LPG;AEP;66.26;7580.00\n",
        "        MDQ;GPO;18.85;720.00\n",
        "        FDO;RYO;26.49;340.00\n",
        "\"\"\""
      ],
      "id": "G-utoEUvlmfB",
      "execution_count": 58,
      "outputs": []
    },
    {
      "cell_type": "code",
      "metadata": {
        "colab": {
          "base_uri": "https://localhost:8080/"
        },
        "id": "1S5Q0_Vplmd2",
        "outputId": "4d749f9f-519e-44ad-e8b1-ec4aca0ea72c"
      },
      "source": [
        "p = re.compile(\"\\s*(\\w{3});\\w{3};\\d*\\.\\d*;(\\d*\\.\\d*)\", re.MULTILINE)\n",
        "print(p.findall(texto))"
      ],
      "id": "1S5Q0_Vplmd2",
      "execution_count": 59,
      "outputs": [
        {
          "output_type": "stream",
          "name": "stdout",
          "text": [
            "[('AEP', '680.00'), ('EZE', '4780.00'), ('JNI', '1160.00'), ('LPG', '7580.00'), ('MDQ', '720.00'), ('FDO', '340.00')]\n"
          ]
        }
      ]
    }
  ]
}