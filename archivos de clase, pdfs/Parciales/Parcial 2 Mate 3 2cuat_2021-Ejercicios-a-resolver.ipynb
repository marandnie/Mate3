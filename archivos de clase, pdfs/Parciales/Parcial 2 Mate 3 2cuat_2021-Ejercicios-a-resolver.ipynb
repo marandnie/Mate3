{
 "cells": [
  {
   "cell_type": "markdown",
   "id": "1e10758a",
   "metadata": {},
   "source": [
    "1.\tCrear la clase grafo (en Python) para el ejercicio 2. (valor = 1 punto)"
   ]
  },
  {
   "cell_type": "code",
   "execution_count": null,
   "id": "ba850037",
   "metadata": {},
   "outputs": [],
   "source": []
  },
  {
   "cell_type": "markdown",
   "id": "77ab9270",
   "metadata": {},
   "source": [
    "2.\tDada la siguiente matriz que determina nodos, pesos y conexiones, resolver usando networkx:\n",
    "\n",
    "<table>\n",
    "\t<thead>\n",
    "\t<tr>\n",
    "\t\t<th></th>\n",
    "\t\t<th>A</th>\n",
    "\t\t<th>B</th>\n",
    "\t\t<th>C</th>\n",
    "\t\t<th>D</th>\n",
    "\t\t<th>E</th>\n",
    "\t\t<th>F</th>\n",
    "\t\t<th>G</th>\n",
    "\t</tr>\n",
    "\t</thead>\n",
    "\t<tbody>\n",
    "\t<tr>\n",
    "\t\t<td>A</td>\n",
    "\t\t<td></td>\n",
    "\t\t<td>5</td>\n",
    "\t\t<td></td>\n",
    "\t\t<td>6</td>\n",
    "\t\t<td></td>\n",
    "\t\t<td></td>\n",
    "\t\t<td></td>\n",
    "\t</tr>\n",
    "\t<tr>\n",
    "\t\t<td>B</td>\n",
    "\t\t<td></td>\n",
    "\t\t<td></td>\n",
    "\t\t<td>5</td>\n",
    "\t\t<td></td>\n",
    "\t\t<td>6</td>\n",
    "\t\t<td></td>\n",
    "\t\t<td>7</td>\n",
    "\t</tr>\n",
    "\t<tr>\n",
    "\t\t<td>C</td>\n",
    "\t\t<td></td>\n",
    "\t\t<td></td>\n",
    "\t\t<td></td>\n",
    "\t\t<td></td>\n",
    "\t\t<td></td>\n",
    "\t\t<td></td>\n",
    "\t\t<td>2</td>\n",
    "\t</tr>\n",
    "\t<tr>\n",
    "        <td>D</td>\n",
    "\t\t<td></td>\n",
    "\t\t<td></td>\n",
    "\t\t<td></td>\n",
    "\t\t<td></td>\n",
    "\t\t<td></td>\n",
    "\t\t<td>5</td>\n",
    "\t\t<td>9</td>\n",
    "\t</tr>\n",
    "\t<tr>\n",
    "        <td>E</td>\n",
    "\t\t<td>3</td>\n",
    "\t\t<td></td>\n",
    "\t\t<td></td>\n",
    "\t\t<td>2</td>\n",
    "\t\t<td></td>\n",
    "\t\t<td></td>\n",
    "\t\t<td></td>\n",
    "\t</tr>\n",
    "\t<tr>\n",
    "        <td>F</td>\n",
    "\t\t<td></td>\n",
    "\t\t<td></td>\n",
    "\t\t<td></td>\n",
    "\t\t<td></td>\n",
    "\t\t<td></td>\n",
    "\t\t<td></td>\n",
    "\t\t<td>9</td>\n",
    "\t</tr>\n",
    "\t<tbody>\n",
    "</table>"
   ]
  },
  {
   "cell_type": "code",
   "execution_count": null,
   "id": "f57b5e5a",
   "metadata": {},
   "outputs": [],
   "source": [
    "# a.\tConstruir los nodos, enlaces y pesos y graficar. \n"
   ]
  },
  {
   "cell_type": "code",
   "execution_count": null,
   "id": "ba2a14ab",
   "metadata": {},
   "outputs": [],
   "source": [
    "# b.\tEmitir los vecinos de ‘b’ \n"
   ]
  },
  {
   "cell_type": "code",
   "execution_count": null,
   "id": "b6048b43",
   "metadata": {},
   "outputs": [],
   "source": [
    "# c.\tEmitir cantidad de aristas de cada nodo\n"
   ]
  },
  {
   "cell_type": "code",
   "execution_count": null,
   "id": "77ba4a44",
   "metadata": {},
   "outputs": [],
   "source": [
    "# d.\tConvertir en diccionario la salida anterior \n"
   ]
  },
  {
   "cell_type": "code",
   "execution_count": null,
   "id": "99129a01",
   "metadata": {},
   "outputs": [],
   "source": [
    "# e.\tCrear la matriz de adyacencia y emitirla \n"
   ]
  },
  {
   "cell_type": "code",
   "execution_count": null,
   "id": "92742271",
   "metadata": {},
   "outputs": [],
   "source": [
    "# f.\tCrear la matriz de incidencia y emitirla \n"
   ]
  },
  {
   "cell_type": "code",
   "execution_count": null,
   "id": "c013e3ee",
   "metadata": {},
   "outputs": [],
   "source": [
    "# g.\tEmitir la longitud desde ‘a’ hasta el objetivo\n"
   ]
  },
  {
   "cell_type": "code",
   "execution_count": null,
   "id": "588e5754",
   "metadata": {},
   "outputs": [],
   "source": [
    "# h.\tEmitir el promedio de la ruta más corta usando el método de floyd-warshall\n"
   ]
  },
  {
   "cell_type": "code",
   "execution_count": null,
   "id": "a6ec09cf",
   "metadata": {},
   "outputs": [],
   "source": [
    "# i.\tEmitir la ruta ponderada más corta entre ‘a’ y ‘g’ usando el algoritmo de Dijkstra \n"
   ]
  },
  {
   "cell_type": "code",
   "execution_count": null,
   "id": "bd77cdb4",
   "metadata": {},
   "outputs": [],
   "source": [
    "# j.\tEmitir la longitud de la ruta ponderada entre ‘a’ y ‘g’ \n"
   ]
  },
  {
   "cell_type": "code",
   "execution_count": null,
   "id": "5d33e6d9",
   "metadata": {},
   "outputs": [],
   "source": [
    "# k.\tEmitir la longitud de la ruta desde el nodo ‘c'\n"
   ]
  },
  {
   "cell_type": "code",
   "execution_count": null,
   "id": "e9dd96de",
   "metadata": {},
   "outputs": [],
   "source": [
    "# l.\tEmita el radio del grafo \n"
   ]
  },
  {
   "cell_type": "code",
   "execution_count": null,
   "id": "85760993",
   "metadata": {},
   "outputs": [],
   "source": [
    "# m.\tEmita el diámetro del grafo \n"
   ]
  },
  {
   "cell_type": "code",
   "execution_count": null,
   "id": "5cb56fd8",
   "metadata": {},
   "outputs": [],
   "source": [
    "# n.\tEmita la excentricidad  \n"
   ]
  },
  {
   "cell_type": "code",
   "execution_count": null,
   "id": "8ba0f299",
   "metadata": {},
   "outputs": [],
   "source": [
    "# o.\tEmita el centro del grafo \n"
   ]
  },
  {
   "cell_type": "code",
   "execution_count": null,
   "id": "bf979400",
   "metadata": {},
   "outputs": [],
   "source": [
    "# p.\tEmita la periferia del grafo \n"
   ]
  },
  {
   "cell_type": "code",
   "execution_count": null,
   "id": "2a3c1313",
   "metadata": {},
   "outputs": [],
   "source": [
    "# q.\tEmita la densidad. \n"
   ]
  },
  {
   "cell_type": "code",
   "execution_count": null,
   "id": "4e215b05",
   "metadata": {},
   "outputs": [],
   "source": [
    "# r.\tDibujar el grafo y emitir con matplotlib\n"
   ]
  },
  {
   "cell_type": "code",
   "execution_count": null,
   "id": "d3e982cc",
   "metadata": {},
   "outputs": [],
   "source": [
    "# s.\tConvertir en grafo dirigido \n"
   ]
  },
  {
   "cell_type": "code",
   "execution_count": null,
   "id": "ce4e2aaa",
   "metadata": {},
   "outputs": [],
   "source": [
    "# t.\tDibujar el nuevo grafo y emitir con matplotlib\n"
   ]
  },
  {
   "cell_type": "markdown",
   "id": "b21d1b7c",
   "metadata": {},
   "source": [
    "3.\tDadas las siguientes líneas de texto:\n",
    "\n",
    "        1,Ciudad Autónoma de Buenos Aires (CABA),AR-C\n",
    "        \n",
    "        2,Buenos Aires,AR-B\n",
    "        \n",
    "        3,Catamarca,AR-K\n",
    "        \n",
    "        4,Córdoba,AR-X\n",
    "        \n",
    "        5,Corrientes,AR-W\n",
    "        \n",
    "        6,Entre Ríos,AR-E\n",
    "        \n",
    "        7,Jujuy,AR-Y\n",
    "\n",
    "Construir el programa y hallar la expresión regular para extraer en una lista las provincia o ciudad (CABA) y la última letra de la cadena, sin el guión: \n",
    "\n",
    "Ej: [Ciudad Autónoma de Buenos Aires (CABA),C, Buenos Aires,B, ….. ]\n"
   ]
  },
  {
   "cell_type": "code",
   "execution_count": null,
   "id": "0679b25c",
   "metadata": {},
   "outputs": [],
   "source": [
    "\n",
    "\n",
    "texto = \"\"\"\n",
    "1,Ciudad Autónoma de Buenos Aires (CABA),AR-C\n",
    "2,Buenos Aires,AR-B\n",
    "3,Catamarca,AR-K\n",
    "4,Córdoba,AR-X\n",
    "5,Corrientes,AR-W\n",
    "6,Entre Ríos,AR-E\n",
    "7,Jujuy,AR-Y\n",
    "\"\"\""
   ]
  },
  {
   "cell_type": "code",
   "execution_count": null,
   "id": "8e70349c",
   "metadata": {},
   "outputs": [],
   "source": []
  }
 ],
 "metadata": {
  "kernelspec": {
   "display_name": "Python 3",
   "language": "python",
   "name": "python3"
  },
  "language_info": {
   "codemirror_mode": {
    "name": "ipython",
    "version": 3
   },
   "file_extension": ".py",
   "mimetype": "text/x-python",
   "name": "python",
   "nbconvert_exporter": "python",
   "pygments_lexer": "ipython3",
   "version": "3.8.8"
  }
 },
 "nbformat": 4,
 "nbformat_minor": 5
}
